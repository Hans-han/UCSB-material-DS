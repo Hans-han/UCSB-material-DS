{
 "cells": [
  {
   "cell_type": "markdown",
   "metadata": {
    "pycharm": {
     "name": "#%% md\n"
    }
   },
   "source": [
    "Load some packages:"
   ]
  },
  {
   "cell_type": "code",
   "execution_count": 1,
   "metadata": {
    "pycharm": {
     "name": "#%%\n"
    }
   },
   "outputs": [],
   "source": [
    "import numpy as np\n",
    "import matplotlib.pyplot as plt"
   ]
  },
  {
   "cell_type": "markdown",
   "metadata": {
    "pycharm": {
     "name": "#%% md\n"
    }
   },
   "source": [
    "This problem deals with simulating various Poisson processes. Let's start by going through the code that generates a Poisson process  $(𝑁_𝑡)_{0≤𝑡≤𝑇}$  with parameter  𝜆>0 .\n",
    "\n",
    "Since we are interested in simulating the process up until time  𝑇 , we will need to keep track of the total time that has elapsed after each arrival; this is the variable 'timeCount'.\n",
    "\n",
    "We will also keep track of the values of the Poisson process over the time interval  [0,𝑇] ; these are stored in 'Nt'. The Poisson process is simple in the sense that we know that each time it moves, it always increases by 1. This means that we could also simply store 'Nt' as an integer-valued variable, then increase it each time a jump takes place. The advantage of our approach is that it is more flexible, and we can easily modify it to implement compound Poisson processes, etc.\n",
    "\n",
    "The final thing we need to track is the arrival times of the various events being modeled by our Poisson process. We store these as 'times', so that 'times' is ultimately a list containing the arrival times from time  𝑡=0  to time  𝑡=𝑇 .\n",
    "\n",
    "Since we are only interested in simulating the Poisson process up to time  𝑇 , we need to keep track of how much time has elasped at the various arrivals. For example, suppose that we are simulating the process on the interval  [0,10] . If we have that  $𝑁_9=4 $, and the next arrival time is given by  $𝑆_5=14$ , then this arrival does not occur until after time  𝑇=10 , so we don't want to include it. Accordingly, the final value of the Poisson process on  [0,10]  is simply  𝑁10=4 , since it wouldn't increase to 5 until time  𝑡=14 , which is outside the window we are simulating.\n",
    "\n",
    "Our PoissonProcess(lam,T) function ultimately returns two things; 'Nt' and 'times'. Suppose in a given simulation where  𝑇=10 , we have  $𝑆_0=0,𝑆_1=1.5,𝑆_2=7.5$ , and  $𝑆_3=11$ . Then 'Nt' = [0,1,2,2], and 'times' = [0,1.5,7.5,10]. The final value 2 of 'Nt' is repeated, since at the terminal time  𝑇=10  we have  $𝑁_{10}=2$ ."
   ]
  },
  {
   "cell_type": "code",
   "execution_count": 4,
   "metadata": {
    "pycharm": {
     "name": "#%%\n"
    }
   },
   "outputs": [],
   "source": [
    "def PoissonProcess(lam,T):\n",
    "    timeCount = 0                               #current time\n",
    "    val = 0                                     #current value of PP\n",
    "    Nt = [0]                                    #value of PP\n",
    "    times = [0]                                 #all arrival times\n",
    "    while(timeCount <= T):\n",
    "        x = np.random.exponential(1/lam)        #sample interarrival times\n",
    "        timeCount = timeCount + x               #curent time\n",
    "        if(timeCount <= T):                     #if current time < T, record X\n",
    "            val = val + 1\n",
    "            Nt.append(val)\n",
    "            times.append(timeCount)\n",
    "        if(timeCount > T):                      #if current time > T, record last value\n",
    "            Nt.append(val)\n",
    "            times.append(T)\n",
    "    return Nt, times"
   ]
  },
  {
   "cell_type": "markdown",
   "metadata": {
    "pycharm": {
     "name": "#%% md\n"
    }
   },
   "source": [
    "The code below simulates a single trajectory of a  𝑃𝑃(1)  process on the time interval  [0,10] ."
   ]
  },
  {
   "cell_type": "code",
   "execution_count": 5,
   "metadata": {
    "pycharm": {
     "name": "#%%\n"
    }
   },
   "outputs": [
    {
     "data": {
      "text/plain": [
       "([0, 1, 2, 3, 4, 5, 6, 7, 8, 9, 10, 11, 12, 13, 14, 14],\n",
       " [0,\n",
       "  0.15179780694019762,\n",
       "  0.269526556137142,\n",
       "  1.0498076862441574,\n",
       "  1.3990012699891707,\n",
       "  3.3822463402306173,\n",
       "  3.4567788818156697,\n",
       "  4.08959203524259,\n",
       "  4.936339404532421,\n",
       "  5.700056255766058,\n",
       "  6.4459847400766215,\n",
       "  6.754743258216383,\n",
       "  8.84643946889887,\n",
       "  9.828695497209077,\n",
       "  9.964613180567047,\n",
       "  10])"
      ]
     },
     "execution_count": 5,
     "metadata": {},
     "output_type": "execute_result"
    }
   ],
   "source": [
    "PoissonSim = PoissonProcess(1,10)\n",
    "PoissonSim"
   ]
  },
  {
   "cell_type": "markdown",
   "metadata": {
    "pycharm": {
     "name": "#%% md\n"
    }
   },
   "source": [
    "Below we plot the trajectory of a realization of a Poisson process with rate  1  on the time interval  [0,10] ."
   ]
  },
  {
   "cell_type": "code",
   "execution_count": 6,
   "metadata": {
    "pycharm": {
     "name": "#%%\n"
    }
   },
   "outputs": [
    {
     "data": {
      "text/plain": [
       "[<matplotlib.lines.Line2D at 0x1e9d2c717c0>]"
      ]
     },
     "execution_count": 6,
     "metadata": {},
     "output_type": "execute_result"
    },
    {
     "data": {
      "image/png": "[encoded data removed]",
      "text/plain": [
       "<Figure size 432x288 with 1 Axes>"
      ]
     },
     "metadata": {
      "needs_background": "light"
     },
     "output_type": "display_data"
    }
   ],
   "source": [
    "Nt = PoissonSim[0]\n",
    "times = PoissonSim[1]\n",
    "plt.plot(times, Nt, drawstyle='steps-post')"
   ]
  },
  {
   "cell_type": "code",
   "execution_count": null,
   "metadata": {
    "pycharm": {
     "name": "#%%\n"
    }
   },
   "outputs": [],
   "source": []
  }
 ],
 "metadata": {
  "kernelspec": {
   "display_name": "Python 3",
   "language": "python",
   "name": "python3"
  },
  "language_info": {
   "codemirror_mode": {
    "name": "ipython",
    "version": 3
   },
   "file_extension": ".py",
   "mimetype": "text/x-python",
   "name": "python",
   "nbconvert_exporter": "python",
   "pygments_lexer": "ipython3",
   "version": "3.8.3"
  }
 },
 "nbformat": 4,
 "nbformat_minor": 4
}