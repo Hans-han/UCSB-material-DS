{
 "cells": [
  {
   "cell_type": "markdown",
   "metadata": {
    "pycharm": {
     "name": "#%% md\n"
    }
   },
   "source": [
    "# Python Section Exercise #1 \n",
    "\n",
    "**Date: 08/09/2022**\n",
    "\n",
    "**Instructions:** Please work on the assignment throughout until you have come up with reasonable solutions for the questions below. Ask your TA clarifying questions as needed. You are not required to upload the assignment. "
   ]
  },
  {
   "cell_type": "markdown",
   "metadata": {
    "pycharm": {
     "name": "#%% md\n"
    }
   },
   "source": [
    "Load some packages:"
   ]
  },
  {
   "cell_type": "code",
   "execution_count": 5,
   "metadata": {
    "pycharm": {
     "name": "#%%\n"
    }
   },
   "outputs": [],
   "source": [
    "import numpy as np\n",
    "import matplotlib.pyplot as plt "
   ]
  },
  {
   "cell_type": "markdown",
   "metadata": {
    "pycharm": {
     "name": "#%% md\n"
    }
   },
   "source": [
    "### Problem 1"
   ]
  },
  {
   "cell_type": "markdown",
   "metadata": {
    "pycharm": {
     "name": "#%% md\n"
    }
   },
   "source": [
    "Recall that a non-negative random variable $X$ is said to follow an exponential distribution with rate $\\lambda > 0$ if its CDF is given by\n",
    "\n",
    "$$\\begin{equation}F_X(x) = \\mathbb{P}(X < x) = \\left\\{\\begin{array}{ll}\n",
    "           0 & \\quad x \\leq 0 \\\\\n",
    "            1-e^{-\\lambda x} & \\quad x \\geq 0\n",
    "        \\end{array}\\right.\n",
    "\\end{equation}$$\n",
    "\n",
    "And we write $X \\sim$ Exp($\\lambda$). (Definition 2.2). \n",
    "\n",
    "The exponential distribution has several useful properties, including the memoryless property. We note that a non-negative random variable $X$ is ***memoryless*** if \n",
    "\n",
    "$$\\begin{equation}\\mathbb{P}(X > s+t|X>s) = P(X>t), \\,\\, s,t\\geq0\\end{equation}$$\n",
    "(Definition 2.3)\n",
    "\n",
    "We also note that a continuous non-negative random variable $X$ has the memoryless property if and only if $X \\sim $ Exp($\\lambda$) for some $\\lambda > 0$. (Proposition 2.4)\n",
    "\n",
    "We wish to experimentally verify the memoryless property, and can do so by looking at a simulated sample of  exponential random variables. In the space provided, construct a function to show that an Exp(1) random variable satisfies the memoryless property. Use random times t and s, generated below. "
   ]
  },
  {
   "cell_type": "code",
   "execution_count": 6,
   "metadata": {
    "pycharm": {
     "name": "#%%\n"
    }
   },
   "outputs": [],
   "source": [
    "t = np.random.uniform(0,1)\n",
    "s = np.random.uniform(0,1)"
   ]
  },
  {
   "cell_type": "code",
   "execution_count": 7,
   "metadata": {
    "pycharm": {
     "name": "#%%\n"
    }
   },
   "outputs": [],
   "source": [
    "### your code here\n",
    "\n",
    "def memoryless_prop(t, s, num_of_trials = 10000):\n",
    "    return()"
   ]
  },
  {
   "cell_type": "code",
   "execution_count": 8,
   "metadata": {
    "pycharm": {
     "name": "#%%\n"
    }
   },
   "outputs": [
    {
     "data": {
      "text/plain": [
       "()"
      ]
     },
     "execution_count": 8,
     "metadata": {},
     "output_type": "execute_result"
    }
   ],
   "source": [
    "memoryless_prop(t, s)"
   ]
  },
  {
   "cell_type": "markdown",
   "metadata": {
    "pycharm": {
     "name": "#%% md\n"
    }
   },
   "source": [
    "### Problem 2\n",
    "\n",
    "In addition to the memoryless property, we note that if a set of random variables $X_1,\\cdots,X_n$ are iid $\\sim$ Exp($\\lambda$) random variables and we let $S = \\sum_{i=1}^n X_i$, then $S \\sim $ Gamma($n, \\lambda$). (Proposition 2.14)   \n",
    "\n",
    "We wish to test this property. Generate an arbitrarily large set of iid Exp($1$) random variables and conirm via simulation that their sum follows a Gamma($n, 1$) distribution. "
   ]
  },
  {
   "cell_type": "code",
   "execution_count": 84,
   "metadata": {
    "pycharm": {
     "name": "#%%\n"
    }
   },
   "outputs": [],
   "source": [
    "### first, generate a random time\n",
    "t = np.random.uniform(50,150)"
   ]
  },
  {
   "cell_type": "code",
   "execution_count": 9,
   "metadata": {
    "pycharm": {
     "name": "#%%\n"
    }
   },
   "outputs": [],
   "source": [
    "### your code here\n",
    "\n",
    "### first, create a function returning a sum of exponential r.v.s.\n",
    "def exp_generator(num_of_exps = 100):\n",
    "    return()\n",
    "\n",
    "### next, let's try some simulations \n",
    "def gamma_compare(t, num_of_exps = 100, num_of_trials = 1000):\n",
    "    return()        "
   ]
  },
  {
   "cell_type": "markdown",
   "metadata": {
    "pycharm": {
     "name": "#%% md\n"
    }
   },
   "source": [
    "In any additional time, try plotting the results of many trials of your exponential sum and gamma random variable.  "
   ]
  },
  {
   "cell_type": "code",
   "execution_count": null,
   "metadata": {
    "pycharm": {
     "name": "#%%\n"
    }
   },
   "outputs": [],
   "source": []
  },
  {
   "cell_type": "code",
   "execution_count": null,
   "metadata": {
    "pycharm": {
     "name": "#%%\n"
    }
   },
   "outputs": [],
   "source": []
  }
 ],
 "metadata": {
  "kernelspec": {
   "display_name": "Python 3",
   "language": "python",
   "name": "python3"
  },
  "language_info": {
   "codemirror_mode": {
    "name": "ipython",
    "version": 3
   },
   "file_extension": ".py",
   "mimetype": "text/x-python",
   "name": "python",
   "nbconvert_exporter": "python",
   "pygments_lexer": "ipython3",
   "version": "3.7.3"
  }
 },
 "nbformat": 4,
 "nbformat_minor": 4
}