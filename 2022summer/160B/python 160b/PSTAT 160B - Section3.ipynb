{
 "cells": [
  {
   "cell_type": "markdown",
   "metadata": {
    "pycharm": {
     "name": "#%% md\n"
    }
   },
   "source": [
    "# Python Lab 2 - PSTAT 160B Summer 2022\n"
   ]
  },
  {
   "cell_type": "markdown",
   "metadata": {
    "pycharm": {
     "name": "#%% md\n"
    }
   },
   "source": [
    "Load some packages:"
   ]
  },
  {
   "cell_type": "code",
   "execution_count": 3,
   "metadata": {
    "pycharm": {
     "name": "#%%\n"
    }
   },
   "outputs": [],
   "source": [
    "import numpy as np\n",
    "import matplotlib.pyplot as plt\n",
    "import math"
   ]
  },
  {
   "cell_type": "markdown",
   "metadata": {
    "pycharm": {
     "name": "#%% md\n"
    }
   },
   "source": [
    "In this lab we simulate a continuous time Markov chain (CTMC) and study its long-term behavior."
   ]
  },
  {
   "cell_type": "markdown",
   "metadata": {
    "pycharm": {
     "name": "#%% md\n"
    }
   },
   "source": [
    "## Part 1 - Simulating a CTMC\n",
    "\n",
    "Begin by consider a CTMC $\\{X_n\\}$ on a finite state space $\\mathcal{S}$ with generator matrix $Q$. Recall that for $x,y \\in \\mathcal{S}$, the $x,y$ entry of $Q$, denoted by $q_{x,y}$, describes the rate at which the chain moves from $x$ to $y$.\n",
    "\n",
    "For the first part of the lab, you will write a function to simulate such a CTMC. The function should have three inputs, $T$, $\\mu$, and $Q$. The input $T$ is the length of time for which the CTMC will be simulated, $Q$ is its generator matrix, and $\\mu$ is its initial distribution. In particular, if $X_0 \\sim \\mu$, this means that\n",
    "\n",
    "$$\n",
    "\\mathbb{P}(X_0 = x) = \\mu(x), \\quad x \\in \\mathcal{S}.\n",
    "$$\n",
    "\n",
    "1. Your function, which we will call **simMC** will output two lists. The first, called **times**, will contain the length of time that the CTMC spent during each visit to each state during the interval $[0,T]$ (in order from the initial state to the last state visited). The second, called **states**, will contain the list, in order, of the states visited over the interval $[0,T]$."
   ]
  },
  {
   "cell_type": "code",
   "execution_count": 5,
   "metadata": {
    "pycharm": {
     "name": "#%%\n"
    }
   },
   "outputs": [],
   "source": [
    "Q = np.matrix([[-1,0.5,0.5],[0.5,-1,0.5],[0.5,1,-0.5]])\n",
    "def simMC(T,mu,Q):\n",
    "    states = range(0,len(Q))\n",
    "    XTrajectory = [x0]\n",
    "    xt = x0\n",
    "    times = [0]\n",
    "    timeCount = 0\n",
    "    while(timeCount <= T):\n",
    "        jumpToRates = np.delete(Q[xt,:], xt)\n",
    "        jumpToStates = np.delete(states,xt)\n",
    "        minClock = math.inf\n",
    "    for state in jumpToStates:\n",
    "        clock = np.random.exponential(1/Q[xt,state])\n",
    "        if(clock < minClock):\n",
    "            minClock = clock\n",
    "            minState = state\n",
    "        timeCount = timeCount + minClock\n",
    "        if(timeCount <= T):\n",
    "            xt = minState\n",
    "            XTrajectory.append(xt)\n",
    "            times.append(timeCount)\n",
    "        if(timeCount > T):\n",
    "            XTrajectory.append(xt)\n",
    "            times.append(T)\n",
    "    plt.plot(times, XTrajectory, drawstyle=\"steps-post\")\n",
    "    ##Code here##"
   ]
  },
  {
   "cell_type": "markdown",
   "metadata": {
    "pycharm": {
     "name": "#%% md\n"
    }
   },
   "source": [
    "2. Using your function from the first part of this lab, write a function **plotMC** that plots the trajectory of a Markov chain with generator $Q$ over the time interval $[0,T]$, when started from initial distribution $\\mu$. "
   ]
  },
  {
   "cell_type": "code",
   "execution_count": 1,
   "metadata": {
    "pycharm": {
     "name": "#%%\n"
    }
   },
   "outputs": [
    {
     "ename": "SyntaxError",
     "evalue": "unexpected EOF while parsing (<ipython-input-1-ac0dd7026cf2>, line 2)",
     "output_type": "error",
     "traceback": [
      "\u001B[0;36m  File \u001B[0;32m\"<ipython-input-1-ac0dd7026cf2>\"\u001B[0;36m, line \u001B[0;32m2\u001B[0m\n\u001B[0;31m    ##Code here##\u001B[0m\n\u001B[0m                 ^\u001B[0m\n\u001B[0;31mSyntaxError\u001B[0m\u001B[0;31m:\u001B[0m unexpected EOF while parsing\n"
     ]
    }
   ],
   "source": [
    "def plotMC(T,mu,Q):\n",
    "    ##Code here##"
   ]
  },
  {
   "cell_type": "markdown",
   "metadata": {
    "pycharm": {
     "name": "#%% md\n"
    }
   },
   "source": [
    "3. Using your **plotMC** function, plot the trajectory of a CTMC with initial distribution\n",
    "\n",
    "$$\n",
    "\\mu = \\begin{pmatrix} 1 & 0 & 0\\end{pmatrix},\n",
    "$$\n",
    "\n",
    "and generator matrix\n",
    "\n",
    "$$\n",
    "Q = \\begin{pmatrix} \n",
    "-2 & 1 & 1\\\\\n",
    "2 & -2 & 0\\\\\n",
    "1 &2 &-3\n",
    "\\end{pmatrix}\n",
    "$$\n",
    "\n",
    "over the interval $[0,10]$."
   ]
  },
  {
   "cell_type": "code",
   "execution_count": null,
   "metadata": {
    "pycharm": {
     "name": "#%%\n"
    }
   },
   "outputs": [],
   "source": [
    "##Plot CTMC here"
   ]
  },
  {
   "cell_type": "markdown",
   "metadata": {
    "pycharm": {
     "name": "#%% md\n"
    }
   },
   "source": [
    "## Part 2 - Long-term Behavior of a CTMC\n",
    "\n",
    "In this part of the lab, we investigate the long-term behavior of a CTMC.\n",
    "\n",
    "Suppose that $\\mathcal{S} = \\{1,2,\\dots, d\\}$, for some $d \\geq 2$. Recall that we can interpret probability distributions on $\\mathcal{S}$ as $d$-dimensional vectors. For example, if $d = 2$, then the probability distribution $\\mu$ satisfying $\\pi(1) = 2/3$ and $\\pi(2) = 2/3$ can be represented as the $2$-dimensional vector\n",
    "\n",
    "$$\n",
    "\\pi = \\begin{pmatrix}2/3 & 1/3 \\end{pmatrix}\n",
    "$$\n",
    "\n",
    "Recall also that we denote a point mass at a (non-random) state $x_0$ by $\\delta_{x_0}$. That is, $\\delta_{x_0}$ is a probability distribution on $\\mathcal{S}$ defined by \n",
    "\n",
    "$$\n",
    "\\delta_{x_0}(x) = \\begin{cases}\n",
    "1, & x = x_0\\\\\n",
    "0, & x \\neq x_0.\n",
    "\\end{cases}\n",
    "$$\n",
    "\n",
    "Observe that if $X_0 \\sim \\delta_{x_0}$, then\n",
    "\n",
    "$$\n",
    "\\mathbb{P}(X_0 = x) = \\delta_{x_0}(x)=  \\begin{cases}\n",
    " 1, & x = x_0\\\\\n",
    " 0,&x \\neq x_0.\n",
    " \\end{cases}\n",
    "$$\n",
    "\n",
    "Thus $\\delta_{x_0}$ can be represented as a vector of $d-1$ zeroes and a single one. For instance, if $\\mathcal{S} = \\{1,2,3\\}$, then\n",
    "\n",
    "$$\n",
    "\\delta_2 = \\begin{pmatrix} 0 & 1 & 0 \\end{pmatrix}.\n",
    "$$\n",
    "\n",
    "For $t \\geq 0$, the **empirical  measure** of a CTMC (at time $t$) is the probability distribution $\\mu_t$ on $\\mathcal{S}$ defined by\n",
    "\n",
    "$$\n",
    "m_t(x) = \\frac{1}{t} \\int_0^t \\delta_{X_s}(x)ds, \\quad x \\in \\mathcal{S}.\n",
    "$$\n",
    "\n",
    "Observe that the empirical measure measures the proportion of time that the Markov chain has spent in each state, until time $t$. For instance, if \n",
    "\n",
    "$$\n",
    "m_{7}(1) = 2/3,\n",
    "$$\n",
    "\n",
    "this means that, during the time interval $[0,7]$, the chain spent two-thirds of its time in state 1.\n",
    "\n",
    "3. Using your earlier functions, write another function, called **empMeasure**, with inputs $T$, $Q$, $\\mu$, and $n$, that outputs the empirical measure of a CTMC with generator matrix $Q$ and initial distribution $\\mu$ over the interval $[0,T]$ at times $t = 0, \\frac{T}{n}, \\frac{2T}{n}, \\dots, \\frac{(n-1)T}{n}, T$. The output should be a vector (or array) with $n+1$ rows (one for each of the aforementioned time instants)."
   ]
  },
  {
   "cell_type": "code",
   "execution_count": null,
   "metadata": {
    "pycharm": {
     "name": "#%%\n"
    }
   },
   "outputs": [],
   "source": [
    "def empMeasure(T,mu,Q, n):\n",
    "    ##Code here##"
   ]
  },
  {
   "cell_type": "markdown",
   "metadata": {
    "pycharm": {
     "name": "#%% md\n"
    }
   },
   "source": [
    "Consider a CTMC $\\{X_t\\}$ on $\\mathcal{S} = \\{1,2\\}$ with generator matrix \n",
    "\n",
    "$$\n",
    "Q = \\begin{pmatrix}\n",
    "-1 & 1\\\\\n",
    "2 & -2\\end{pmatrix}.\n",
    "$$\n",
    "\n",
    "4. Using **empMeasure**, simulate $R$ different trajectories of $\\{X_t\\}$ with initial distribution \n",
    "\n",
    "$$\n",
    "\\mu = \\begin{pmatrix} 1/2 & 1/2\n",
    "\\end{pmatrix},\n",
    "$$\n",
    "\n",
    "over the interval $[0,T]$. Let $\\{m_1(t) : t \\in [0,T]\\}$ denote the trajectory of the empirical measure of the Markov chain in the first simulation, $\\{m_2(t) : t \\in [0,T]\\}$ denote the trajectory of the empirical measure of the Markov chain in the second simulation, and so on. \n",
    "\n",
    "In a single plot, plot the $R$ trajectories $\\{m_1(t) : t \\in [0,T]\\}$, $\\{m_1(t) : t \\in [0,T]\\}, \\dots, \\{m_R(t) : t \\in [0,T]\\}$. The $x$-axis should be the probability assigned to state $1$, and the $y$-axis should be the probability assigned to state $2$.\n",
    "\n",
    "You can use $R = 5$, $T = 50$ and $n = 200$."
   ]
  },
  {
   "cell_type": "code",
   "execution_count": null,
   "metadata": {
    "pycharm": {
     "name": "#%%\n"
    }
   },
   "outputs": [],
   "source": [
    "##Plot empirical measures here"
   ]
  },
  {
   "cell_type": "markdown",
   "metadata": {
    "pycharm": {
     "name": "#%% md\n"
    }
   },
   "source": [
    "How do the various trajectories compare? How are they similar/different from each other?"
   ]
  }
 ],
 "metadata": {
  "kernelspec": {
   "display_name": "Python 3",
   "language": "python",
   "name": "python3"
  },
  "language_info": {
   "codemirror_mode": {
    "name": "ipython",
    "version": 3
   },
   "file_extension": ".py",
   "mimetype": "text/x-python",
   "name": "python",
   "nbconvert_exporter": "python",
   "pygments_lexer": "ipython3",
   "version": "3.8.8"
  }
 },
 "nbformat": 4,
 "nbformat_minor": 2
}