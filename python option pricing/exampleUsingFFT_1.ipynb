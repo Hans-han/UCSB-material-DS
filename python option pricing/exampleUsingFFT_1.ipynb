{
 "cells": [
  {
   "cell_type": "code",
   "execution_count": 2,
   "metadata": {
    "collapsed": true,
    "pycharm": {
     "name": "#%%\n"
    }
   },
   "outputs": [],
   "source": [
    "import numpy as np"
   ]
  },
  {
   "cell_type": "code",
   "execution_count": 4,
   "metadata": {
    "pycharm": {
     "name": "#%%\n"
    }
   },
   "outputs": [],
   "source": [
    "#An arbitrary vector Nx1 -- in our example 8x1\n",
    "\n",
    "N = 8\n",
    "x = np.array([\n",
    "        1.5+2.6j,\n",
    "        2.7+7.3j,\n",
    "        1.7+4.0j,\n",
    "        4.1+9.1j,\n",
    "        3.9+1.4j,\n",
    "        2.9+4.8j,\n",
    "        3.0+1.6j,\n",
    "        7.3+2.1j\n",
    "        ])"
   ]
  },
  {
   "cell_type": "code",
   "execution_count": 5,
   "metadata": {
    "pycharm": {
     "name": "#%%\n"
    }
   },
   "outputs": [
    {
     "name": "stdout",
     "output_type": "stream",
     "text": [
      "x\n",
      "(1.5+2.6j)\n",
      "(2.7+7.3j)\n",
      "(1.7+4j)\n",
      "(4.1+9.1j)\n",
      "(3.9+1.4j)\n",
      "(2.9+4.8j)\n",
      "(3+1.6j)\n",
      "(7.3+2.1j)\n"
     ]
    }
   ],
   "source": [
    "#Elements of x \n",
    "\n",
    "print('x')\n",
    "for i in x:\n",
    "    print(i)"
   ]
  },
  {
   "cell_type": "code",
   "execution_count": 6,
   "metadata": {
    "pycharm": {
     "name": "#%%\n"
    }
   },
   "outputs": [
    {
     "name": "stdout",
     "output_type": "stream",
     "text": [
      "==============\n",
      "      y       \n",
      "--------------\n",
      "(27.1+32.9j)\n",
      "(8.838834764831844+1.722182540694798j)\n",
      "(1.6000000000000005+4.199999999999999j)\n",
      "(-0.2038059222874411+5.486143571373725j)\n",
      "(-6.899999999999999-13.699999999999998j)\n",
      "(-8.838834764831844+3.277817459305202j)\n",
      "(-0.20000000000000018-7.399999999999999j)\n",
      "(-9.396194077712558-5.686143571373725j)\n"
     ]
    }
   ],
   "source": [
    "#Printing elements of y\n",
    "\n",
    "y  = np.fft.fft(x)\n",
    "print('==============')\n",
    "print('      y       ')\n",
    "print('--------------')\n",
    "for yj in y:\n",
    "    print(yj)"
   ]
  },
  {
   "cell_type": "code",
   "execution_count": 6,
   "metadata": {
    "pycharm": {
     "name": "#%%\n"
    }
   },
   "outputs": [
    {
     "name": "stdout",
     "output_type": "stream",
     "text": [
      "==============\n",
      "     yH       \n",
      "--------------\n",
      "(27.1+32.9j)\n",
      "(8.83883476483+1.72218254069j)\n",
      "(1.6+4.2j)\n",
      "(-0.203805922287+5.48614357137j)\n",
      "(-6.9-13.7j)\n",
      "(-8.83883476483+3.27781745931j)\n",
      "(-0.2-7.4j)\n",
      "(-9.39619407771-5.68614357137j)\n"
     ]
    }
   ],
   "source": [
    "# implemeting FFT explicitly\n",
    "\n",
    "yH = np.zeros(N, dtype=complex)\n",
    "jJ = np.zeros(N)\n",
    "for i in range(N):\n",
    "    jJ[i] = i\n",
    "for m in range(N):\n",
    "    yH[m]=np.sum(np.transpose(np.exp((-1j*2.0*np.pi/N)*m*jJ))*x)\n",
    "\n",
    "    \n",
    "print('==============')\n",
    "print('     yH       ')\n",
    "print('--------------')\n",
    "for yj in yH:\n",
    "    print(yj)"
   ]
  },
  {
   "cell_type": "markdown",
   "metadata": {
    "pycharm": {
     "name": "#%% md\n"
    }
   },
   "source": [
    "How to get the x back?\n",
    "\n",
    "Getting x back by calling x = ifft(y)"
   ]
  },
  {
   "cell_type": "code",
   "execution_count": 7,
   "metadata": {
    "pycharm": {
     "name": "#%%\n"
    }
   },
   "outputs": [
    {
     "name": "stdout",
     "output_type": "stream",
     "text": [
      "===================\n",
      " Get x back from y \n",
      "-------------------\n",
      "(1.5+2.6j)\n",
      "(2.7+7.3j)\n",
      "(1.7+4j)\n",
      "(4.1+9.1j)\n",
      "(3.9+1.4j)\n",
      "(2.9+4.8j)\n",
      "(3+1.6j)\n",
      "(7.3+2.1j)\n"
     ]
    }
   ],
   "source": [
    "x_ = np.fft.ifft(y)    \n",
    "print('===================')\n",
    "print(' Get x back from y ')\n",
    "print('-------------------')\n",
    "for xi in x_:\n",
    "    print(xi)"
   ]
  },
  {
   "cell_type": "code",
   "execution_count": 14,
   "metadata": {
    "pycharm": {
     "name": "#%%\n"
    }
   },
   "outputs": [
    {
     "name": "stdout",
     "output_type": "stream",
     "text": [
      "===================\n",
      " Get x back from y \n",
      "-------------------\n",
      "[ 1.5+2.6j]\n",
      "[ 2.7+7.3j]\n",
      "[ 1.7+4.j]\n",
      "[ 4.1+9.1j]\n",
      "[ 3.9+1.4j]\n",
      "[ 2.9+4.8j]\n",
      "[ 3.+1.6j]\n",
      "[ 7.3+2.1j]\n"
     ]
    }
   ],
   "source": [
    "# implemeting IFFT explicitly\n",
    "\n",
    "xH = np.zeros(N, dtype=complex) \n",
    "for m in range(N):\n",
    "    xH[m]= np.sum(np.exp((1j*2.0*np.pi/N)*m*jJ)*y)/N \n",
    " \n",
    "print('===================')\n",
    "print(' Get x back from y ')\n",
    "print('-------------------')            \n",
    "for xi in xH:\n",
    "    print(xi)"
   ]
  },
  {
   "cell_type": "code",
   "execution_count": null,
   "metadata": {
    "collapsed": true,
    "pycharm": {
     "name": "#%%\n"
    }
   },
   "outputs": [],
   "source": []
  }
 ],
 "metadata": {
  "kernelspec": {
   "display_name": "Python 3",
   "language": "python",
   "name": "python3"
  },
  "language_info": {
   "codemirror_mode": {
    "name": "ipython",
    "version": 3
   },
   "file_extension": ".py",
   "mimetype": "text/x-python",
   "name": "python",
   "nbconvert_exporter": "python",
   "pygments_lexer": "ipython3",
   "version": "3.6.3"
  }
 },
 "nbformat": 4,
 "nbformat_minor": 2
}