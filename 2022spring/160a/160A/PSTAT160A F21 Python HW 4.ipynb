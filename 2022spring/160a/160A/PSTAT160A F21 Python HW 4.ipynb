{
 "cells": [
  {
   "cell_type": "markdown",
   "metadata": {},
   "source": [
    "# Python Homework 4\n",
    "\n",
    "**Due date:** Tuesday, __November 16__, 11:59 p.m. via Gradescope\n",
    "\n",
    "**Instruction:** Please upload your jupyter notebook on GauchoSpace with filename \"PythonHW4_YOURPERMNUMBER.ipynb\"."
   ]
  },
  {
   "cell_type": "markdown",
   "metadata": {},
   "source": [
    "Problem 1.\n",
    "\n",
    "__Background:__ Markov chains could be used to model a plethora of phenomena that happen in our world. The only assumption that we would have to accept is the fact that what we are trying to model depends only on the last step, and not on all previous steps (the whole history). \n",
    "\n",
    "For example, Sahin and Sen (2001) model hourly wind speeds in a NW part of Turkey as a Markov chain ${(X_n)}_{n\\in \\mathbb{N}}$ with 7 states representing different wind speed levels. Since in Python arrays are indexed starting from $0$, let us consider the states to be $S=\\{0,1,2,3,4,5,6 \\}$, with $0$ representing the lowest wind speed level. The transition matrix is given by: \n",
    "\n",
    "\\begin{gather*}\n",
    "P=\\begin{array}{cccccccc}\n",
    "& 0 & 1 & 2 & 3 & 4 & 5 & 6 \\\\\n",
    "0 & 0.756 & 0.113 & 0.129 & 0.002 & 0 & 0 & 0\\\\\n",
    "1 & 0.174 & 0.821 & 0.004 & 0.001 & 0 & 0 & 0\\\\\n",
    "2 & 0.141 & 0.001 & 0.776 & 0.082 & 0 & 0 & 0\\\\\n",
    "3 & 0.003 & 0 & 0.192 & 0.753 & 0.052 & 0 & 0\\\\\n",
    "4 & 0 & 0 & 0.002 & 0.227 & 0.735 & 0.036 & 0\\\\\n",
    "5 & 0 & 0 & 0 & 0.007 & 0.367 & 0.604 & 0.022\\\\\n",
    "6 & 0 & 0 & 0 & 0 & 0.053 & 0.158 & 0.789\\\\\n",
    "\\end{array}\n",
    "\\end{gather*}"
   ]
  },
  {
   "cell_type": "markdown",
   "metadata": {},
   "source": [
    "As usual, we start with loading some packages:"
   ]
  },
  {
   "cell_type": "code",
   "execution_count": 1,
   "metadata": {},
   "outputs": [],
   "source": [
    "import numpy as np \n",
    "from numpy import linalg \n",
    "import scipy.linalg\n",
    "from numpy import polynomial\n",
    "import matplotlib\n",
    "from matplotlib import pyplot\n",
    "from numpy.linalg import matrix_power"
   ]
  },
  {
   "cell_type": "markdown",
   "metadata": {},
   "source": [
    "### Part a (2 Points)\n",
    "\n",
    "Implement the transition probability matrix $P$ from above as a two dimensional <tt>numpy.array()</tt>. Compute $P^{7}$ and list its rows. "
   ]
  },
  {
   "cell_type": "code",
   "execution_count": 2,
   "metadata": {},
   "outputs": [
    {
     "data": {
      "text/plain": [
       "array([[3.88182154e-01, 2.51905218e-01, 2.78526403e-01, 7.35440384e-02,\n",
       "        7.52157116e-03, 3.14415541e-04, 6.20064088e-06],\n",
       "       [3.90899834e-01, 4.01123054e-01, 1.73362747e-01, 3.21628973e-02,\n",
       "        2.37176779e-03, 7.83745082e-05, 1.32548575e-06],\n",
       "       [3.00702106e-01, 1.17049352e-01, 3.90973627e-01, 1.63754184e-01,\n",
       "        2.59246983e-02, 1.54837844e-03, 4.76542058e-05],\n",
       "       [1.81054947e-01, 4.53387029e-02, 3.81778491e-01, 2.98851434e-01,\n",
       "        8.48801487e-02, 7.68398104e-03, 4.12295300e-04],\n",
       "       [8.19244208e-02, 1.33620772e-02, 2.68559006e-01, 3.72565981e-01,\n",
       "        2.27965343e-01, 3.22631333e-02, 3.36003854e-03],\n",
       "       [3.69181923e-02, 4.14369253e-03, 1.71543120e-01, 3.53122996e-01,\n",
       "        3.35345550e-01, 7.67724309e-02, 2.21540186e-02],\n",
       "       [1.11758879e-02, 9.64858223e-04, 6.91427100e-02, 2.08955182e-01,\n",
       "        3.35675738e-01, 1.67200772e-01, 2.06884851e-01]])"
      ]
     },
     "execution_count": 2,
     "metadata": {},
     "output_type": "execute_result"
    }
   ],
   "source": [
    "# WRITE YOUR OWN CODE HERE! \n",
    "# Use P5 = linalg.matrix_power(P, 7)\n",
    "P = np.array([[0.756,0.113,0.129,0.002,0,0,0],\n",
    "              [0.174,0.821,0.004,0.001,0,0,0],\n",
    "              [0.141,0.001,0.776,0.082,0,0,0],\n",
    "              [0.003,0,0.192,0.753,0.052,0,0],\n",
    "              [0,0,0.002,0.227,0.735,0.036,0],\n",
    "              [0,0,0,0.007,0.367,0.604,0.022],\n",
    "              [0,0,0,0,0.053,0.158,0.789]])\n",
    "P7 = linalg.matrix_power(P, 7)\n",
    "P7"
   ]
  },
  {
   "cell_type": "markdown",
   "metadata": {},
   "source": [
    "### Part b (4 points)\n",
    "Assume that the wind speed in State $i$ is $10 \\cdot i$ Miles/hr. So there is no wind in state 0 and 60 M/hr wind in state 6. Given that there is no wind today, find the **expected wind speed** in 1 week's time. "
   ]
  },
  {
   "cell_type": "code",
   "execution_count": 3,
   "metadata": {},
   "outputs": [
    {
     "data": {
      "text/plain": [
       "10.612857045656652"
      ]
     },
     "execution_count": 3,
     "metadata": {},
     "output_type": "execute_result"
    }
   ],
   "source": [
    "# WRITE YOUR OWN CODE HERE! \n",
    "speed = []\n",
    "for i in range(0,7):\n",
    "    t = 10*i\n",
    "    speed.append(t)\n",
    "np.array(speed)\n",
    "expected_wind_speed = np.dot(speed,P7[0])\n",
    "expected_wind_speed"
   ]
  },
  {
   "cell_type": "markdown",
   "metadata": {},
   "source": [
    "### Part c (4 Points)\n",
    "\n",
    "We fix $X_0 = 0$ (no wind today) and wish to compute $H_n := \\mathbb{P}(X_n = 6 | X_0 = 0)$ which is the probability that there will be strong wind $n$ days from now. Using a <tt>for</tt> loop, evaluate $H_n$ for $n=1,2,\\ldots,100$, i.e for 1,2, and up to 100 days into the future.\n",
    "\n",
    "Create a plot showing $H_n$ as a function of $n$. Summarize what you observe."
   ]
  },
  {
   "cell_type": "code",
   "execution_count": 4,
   "metadata": {},
   "outputs": [
    {
     "data": {
      "text/plain": [
       "[<matplotlib.lines.Line2D at 0x7f810847fe20>]"
      ]
     },
     "execution_count": 4,
     "metadata": {},
     "output_type": "execute_result"
    },
    {
     "data": {
      "image/png": "[encoded data removed]",
      "text/plain": [
       "<Figure size 432x288 with 1 Axes>"
      ]
     },
     "metadata": {
      "needs_background": "light"
     },
     "output_type": "display_data"
    }
   ],
   "source": [
    "# WRITE YOUR OWN CODE HERE! \n",
    "H_n = [] \n",
    "for n in range(0,100):\n",
    "    H = np.linalg.matrix_power(P,24*n)[0][6]\n",
    "    H_n.append(H)\n",
    "pyplot.plot(H_n)"
   ]
  },
  {
   "cell_type": "markdown",
   "metadata": {},
   "source": [
    "### Problem 2.\n",
    "\n",
    "__Background:__ Markov chains are a powerful tool that can be used to solve many problems in optimization. In particular, there are many algorithms, defined in terms of Markov chains, that can be used to find local or global maxima and minima of functions. \n",
    "\n",
    "In this problem we will look at a stochastic approximation method that can be used to estimate the root of a function $h$ (i.e., the point $x$ at which $h(x) = 0$. For simplicity, in this function we will assume that $h$ is a polynomial. \n",
    "\n",
    "Our stochastic approximation algorithm see\n",
    "ks to find the $x_* \\in \\mathbb{R}$ that minimizes $h$, namely we want to find\n",
    "$$\n",
    "x_* = {\\arg\\min}_x h(x).\n",
    "$$\n",
    "Our stochastic approximation algorithm will be defined in terms of a step-size sequence $\\{\\gamma_n\\}$ and a noise sequence $\\{\\xi_{n}\\}$. For each $n \\in \\mathbb{N}$, let, for an initial condition $x \\in \\mathbb{R}$,\n",
    "$$\n",
    "\\begin{cases}\n",
    "x_{n+1} \\doteq x_n -  \\gamma_{n+1}( \\nabla h(x_n)  + \\xi_{n+1}),\\\\\n",
    "x_0 = x.\n",
    "\\end{cases}\n",
    "$$\n",
    "where $\\nabla h(x)$ is the derivative of $h$ evaluated at $x \\in \\mathbb{R}$.\n",
    "\n",
    "Typically, in order to ensure that the approximation converges, the step size sequence satisfies\n",
    "$$\n",
    "\\sum\\limits_{n=1}^{\\infty} \\gamma_n =\\infty, \\qquad \\text{ and }\\sum\\limits_{n=1}^{\\infty} \\gamma_n^2 < \\infty.\n",
    "$$\n",
    "For example, if $\\gamma_n = \\frac{\\gamma_*}{n}$ for some constant $\\gamma_* > 0$, then these conditions are satisfied.\n",
    "\n",
    "In general one requires certain conditions on the function $h$ (e.g., it is differentiable and has a unique minimum) and the noise sequence $\\{\\xi_n\\}$.\n",
    "\n",
    "In this problem we will assume that $\\{\\xi_n\\}$ is an i.i.d. collection of random variables.\n",
    "\n",
    "### (a) (3 points)\n",
    "\n",
    "We begin by considering the case when our approximation method is purely deterministic, namely $\\xi_n = 0$ for each $n \\in \\mathbb{N}$ (see https://en.wikipedia.org/wiki/Euler_method). We assume that the step-size sequence is given by $\\gamma_n = \\frac{0.05}{n}$.\n",
    "\n",
    "We also assume that $h$ is a $d$-dimensional polynomial, namely $h$ is of the form\n",
    "$$\n",
    "h(x) = a_0 + a_1 x + a_2 x^2 + \\cdots + a_d x^d.\n",
    "$$\n",
    "Write a function __1. Function:__ <tt>Euler(...)</tt>\n",
    "\n",
    "Input: \n",
    "* <tt>h</tt>: coefficients of the polynomial h: $[a_d, a_{d-1},\\dots,a_1, a_0]$ (array of length $d + 1$)\n",
    "* <tt>n</tt>: number of steps for which the approximation will be ran.\n",
    "* <tt>x</tt>: the initial condition of the approximation (so that $x_0 = x$).\n",
    "\n",
    "Output:\n",
    "* <tt>result</tt>: the approximation at each time instant, namely $[x_{n}, x_{n-1}, x_{n-2}, \\dots, x_1, x_0]$ (array of length n+1)\n"
   ]
  },
  {
   "cell_type": "code",
   "execution_count": 5,
   "metadata": {
    "scrolled": true
   },
   "outputs": [],
   "source": [
    "def Euler(h, x, n):\n",
    "    \n",
    "    ## WRITE YOUR OWN CODE HERE\n",
    "    ## HINT: USE numpy.where() AND numpy.amax()\n",
    "    ## HINT: USE numpy.polyder() to calculate the derivative of h\n",
    "    ## HINT: USE numpy.polyval to evaluate the derivative of h at x\n",
    "    result = []\n",
    "    for i in range(1,n+1):\n",
    "        x = x - (np.polyval(np.polyder(h),x))*(0.05/(i+1))\n",
    "        result += [x]\n",
    "    result.reverse()\n",
    "    return result  "
   ]
  },
  {
   "cell_type": "markdown",
   "metadata": {},
   "source": [
    "### (b) (3 points)\n",
    "\n",
    "Consider the polynomial $h$ given by \n",
    "$$\n",
    "h(x) = x^4 - 9x^3 + 26x^2 - 24x + 6.9141\n",
    "$$\n",
    "\n",
    "Using your function from part (a), approximate the root of $h$ with $n = 100$ with initial conditions $x = -1, 0,1,4$. How far is your approximation from the actual minimizer (which occurs at $x = 0.67365$)?\n",
    "\n",
    "What is your approximation algorithm converging to when it is initialized at $x = 4$? Why might this be? It may be helpful to plot the function $h$."
   ]
  },
  {
   "cell_type": "code",
   "execution_count": 6,
   "metadata": {},
   "outputs": [
    {
     "name": "stdout",
     "output_type": "stream",
     "text": [
      "the root of  ℎ  with  𝑛=100  with initial conditions x=  -1  is  1.6750000000000003 , and is  1.0013500000000004  from actual minimizer\n",
      "the root of  ℎ  with  𝑛=100  with initial conditions x=  0  is  0.6000000000000001 , and is  0.07364999999999988  from actual minimizer\n",
      "the root of  ℎ  with  𝑛=100  with initial conditions x=  1  is  0.875 , and is  0.20135000000000003  from actual minimizer\n",
      "the root of  ℎ  with  𝑛=100  with initial conditions x=  4  is  3.8 , and is  3.12635  from actual minimizer\n"
     ]
    }
   ],
   "source": [
    "print(\"the root of  ℎ  with  𝑛=100  with initial conditions x= \",-1,\" is \",Euler([1,-9,26,-24,6.9141],-1,100)[99],\", and is \",abs(0.67365-Euler([1,-9,26,-24,6.9141],-1,100)[99]),\" from actual minimizer\")\n",
    "print(\"the root of  ℎ  with  𝑛=100  with initial conditions x= \",0,\" is \",Euler([1,-9,26,-24,6.9141],0,100)[99],\", and is \",abs(0.67365-Euler([1,-9,26,-24,6.9141],0,100)[99]),\" from actual minimizer\")\n",
    "print(\"the root of  ℎ  with  𝑛=100  with initial conditions x= \",1,\" is \",Euler([1,-9,26,-24,6.9141],1,100)[99],\", and is \",abs(0.67365-Euler([1,-9,26,-24,6.9141],1,100)[99]),\" from actual minimizer\")\n",
    "print(\"the root of  ℎ  with  𝑛=100  with initial conditions x= \",4,\" is \",Euler([1,-9,26,-24,6.9141],4,100)[99],\", and is \",abs(0.67365-Euler([1,-9,26,-24,6.9141],4,100)[99]),\" from actual minimizer\")"
   ]
  },
  {
   "cell_type": "code",
   "execution_count": 7,
   "metadata": {
    "scrolled": true
   },
   "outputs": [
    {
     "data": {
      "text/plain": [
       "[<matplotlib.lines.Line2D at 0x7f810883f820>]"
      ]
     },
     "execution_count": 7,
     "metadata": {},
     "output_type": "execute_result"
    },
    {
     "data": {
      "image/png": "[encoded data removed]",
      "text/plain": [
       "<Figure size 432x288 with 1 Axes>"
      ]
     },
     "metadata": {
      "needs_background": "light"
     },
     "output_type": "display_data"
    }
   ],
   "source": [
    "pyplot.plot(Euler([1,-9,26,-24,6.9141],-1,100))\n",
    "pyplot.plot(Euler([1,-9,26,-24,6.9141],0,100))\n",
    "pyplot.plot(Euler([1,-9,26,-24,6.9141],1,100))\n",
    "pyplot.plot([0.67365]*100)"
   ]
  },
  {
   "cell_type": "code",
   "execution_count": 8,
   "metadata": {},
   "outputs": [],
   "source": [
    "# The algorithm convering to 3.169 when x=4 since h has a local miniumn which is 3.6"
   ]
  },
  {
   "cell_type": "markdown",
   "metadata": {},
   "source": [
    "### (c) (3 points)\n",
    "\n",
    "We now consider the case when the noise term is normally distributed, in particular when $\\xi_n$ are i.i.d. $\\mathcal{N}(0,\\sigma^2)$ random variables. Write a function \n",
    "\n",
    "__Function:__ <tt>SA(...)</tt>\n",
    "\n",
    "Input: \n",
    "* <tt>h</tt>: coefficients of the polynomial h: $[a_d, a_{d-1},\\dots,a_1, a_0]$ (array of length $d + 1$)\n",
    "* <tt>n</tt>: number of steps for which the approximation will be ran.\n",
    "* <tt>x</tt>: the initial condition of the approximation (so that $x_0 = x$).\n",
    "* <tt>var</tt>: the variance of the noise term, $\\sigma^2$.\n",
    "\n",
    "Output:\n",
    "* <tt>result</tt>: the approximation at each time instant, namely $[x_{n}, x_{n-1}, x_{n-2}, \\dots, x_1, x_0]$ (array of length n+1)."
   ]
  },
  {
   "cell_type": "code",
   "execution_count": 9,
   "metadata": {},
   "outputs": [],
   "source": [
    "def SA(h, x, n, var):\n",
    "    \n",
    "    ## WRITE YOUR OWN CODE HERE\n",
    "    ## HINT: USE numpy.where() AND numpy.amax()\n",
    "    ## HINT: USE numpy.polyder() to calculate the derivative of h\n",
    "    ## HINT: USE numpy.polyval to evaluate the derivative of h at x\n",
    "    result = []\n",
    "    for i in range(1,n+1):\n",
    "        x = x - (0.05/(i+1))*(np.polyval(np.polyder(h),x)+np.random.normal(0,np.sqrt(var)))\n",
    "        result += [x]\n",
    "    result.reverse()\n",
    "    return result  "
   ]
  },
  {
   "cell_type": "markdown",
   "metadata": {},
   "source": [
    "### (d) (3 points)\n",
    "\n",
    "Now consider the same polynomial $h$ from part (b). This time we will update our approximation by letting $\\xi_n$ be i.i.d. $\\mathcal{N}(0,5)$ random variables. Using your function from part (a), approximate the root of $h$ with $n = 100$ with initial conditions $x = -1, 0,1,4$. How far is your approximation from the actual minimizer (which occurs at $x = 0.67365$)? Does the presence of a noise term seem to affect the convergence properties of the algorithm?\n",
    "\n",
    "Repeat this when $\\sigma^2 = 50$ and comment on your results. What seems to happen when the noise term is \"too large\"?"
   ]
  },
  {
   "cell_type": "code",
   "execution_count": 10,
   "metadata": {},
   "outputs": [
    {
     "name": "stdout",
     "output_type": "stream",
     "text": [
      "the 100th term for x0 =  -1  is  1.644653171360257 , and is  0.9840216745241536  from actual minimizer\n",
      "the 100th term for x0 =  0  is  0.6254148737834195 , and is  0.08780841063643785  from actual minimizer\n",
      "the 100th term for x0 =  1  is  0.8956142918617954 , and is  0.244377524965819  from actual minimizer\n",
      "the 100th term for x0 =  4  is  3.83136324976085 , and is  3.1355826871076657  from actual minimizer\n"
     ]
    }
   ],
   "source": [
    "print(\"the 100th term for x0 = \",-1,\" is \",SA([1,-9,26,-24,6.9141],-1,100,5)[99],\", and is \",abs(0.67365-SA([1,-9,26,-24,6.9141],-1,100,5)[99]),\" from actual minimizer\")\n",
    "print(\"the 100th term for x0 = \",0,\" is \",SA([1,-9,26,-24,6.9141],0,100,5)[99],\", and is \",abs(0.67365-SA([1,-9,26,-24,6.9141],0,100,5)[99]),\" from actual minimizer\")\n",
    "print(\"the 100th term for x0 = \",1,\" is \",SA([1,-9,26,-24,6.9141],1,100,5)[99],\", and is \",abs(0.67365-SA([1,-9,26,-24,6.9141],1,100,5)[99]),\" from actual minimizer\")\n",
    "print(\"the 100th term for x0 = \",4,\" is \",SA([1,-9,26,-24,6.9141],4,100,5)[99],\", and is \",abs(0.67365-SA([1,-9,26,-24,6.9141],4,100,5)[99]),\" from actual minimizer\")"
   ]
  },
  {
   "cell_type": "code",
   "execution_count": 11,
   "metadata": {},
   "outputs": [
    {
     "data": {
      "text/plain": [
       "[<matplotlib.lines.Line2D at 0x7f8108907850>]"
      ]
     },
     "execution_count": 11,
     "metadata": {},
     "output_type": "execute_result"
    },
    {
     "data": {
      "image/png": "[encoded data removed]",
      "text/plain": [
       "<Figure size 432x288 with 1 Axes>"
      ]
     },
     "metadata": {
      "needs_background": "light"
     },
     "output_type": "display_data"
    }
   ],
   "source": [
    "pyplot.plot(SA([1,-9,26,-24,6.9141],-1,100,5))\n",
    "pyplot.plot(SA([1,-9,26,-24,6.9141],0,100,5))\n",
    "pyplot.plot(SA([1,-9,26,-24,6.9141],1,100,5))\n",
    "pyplot.plot(SA([1,-9,26,-24,6.9141],4,100,5))\n",
    "pyplot.plot([0.67365]*100)"
   ]
  },
  {
   "cell_type": "code",
   "execution_count": 12,
   "metadata": {},
   "outputs": [
    {
     "name": "stdout",
     "output_type": "stream",
     "text": [
      "the 100th term for x0 =  -1  is  1.8941770639342304 , and is  0.8148399949021846  from actual minimizer\n",
      "the 100th term for x0 =  0  is  0.5469086688167736 , and is  0.1258773608704863  from actual minimizer\n",
      "the 100th term for x0 =  1  is  0.9976139539629215 , and is  0.22062529474594827  from actual minimizer\n",
      "the 100th term for x0 =  4  is  4.025658371423326 , and is  3.1360225978585095  from actual minimizer\n"
     ]
    }
   ],
   "source": [
    "print(\"the 100th term for x0 = \",-1,\" is \",SA([1,-9,26,-24,6.9141],-1,100,50)[99],\", and is \",abs(0.67365-SA([1,-9,26,-24,6.9141],-1,100,50)[99]),\" from actual minimizer\")\n",
    "print(\"the 100th term for x0 = \",0,\" is \",SA([1,-9,26,-24,6.9141],0,100,50)[99],\", and is \",abs(0.67365-SA([1,-9,26,-24,6.9141],0,100,50)[99]),\" from actual minimizer\")\n",
    "print(\"the 100th term for x0 = \",1,\" is \",SA([1,-9,26,-24,6.9141],1,100,50)[99],\", and is \",abs(0.67365-SA([1,-9,26,-24,6.9141],1,100,50)[99]),\" from actual minimizer\")\n",
    "print(\"the 100th term for x0 = \",4,\" is \",SA([1,-9,26,-24,6.9141],4,100,50)[99],\", and is \",abs(0.67365-SA([1,-9,26,-24,6.9141],4,100,50)[99]),\" from actual minimizer\")"
   ]
  },
  {
   "cell_type": "code",
   "execution_count": 13,
   "metadata": {},
   "outputs": [
    {
     "data": {
      "text/plain": [
       "[<matplotlib.lines.Line2D at 0x7f8108a02100>]"
      ]
     },
     "execution_count": 13,
     "metadata": {},
     "output_type": "execute_result"
    },
    {
     "data": {
      "image/png": "[encoded data removed]",
      "text/plain": [
       "<Figure size 432x288 with 1 Axes>"
      ]
     },
     "metadata": {
      "needs_background": "light"
     },
     "output_type": "display_data"
    }
   ],
   "source": [
    "pyplot.plot(SA([1,-9,26,-24,6.9141],-1,100,50))\n",
    "pyplot.plot(SA([1,-9,26,-24,6.9141],0,100,50))\n",
    "pyplot.plot(SA([1,-9,26,-24,6.9141],1,100,50))\n",
    "pyplot.plot(SA([1,-9,26,-24,6.9141],4,100,50))\n",
    "pyplot.plot([0.67365]*100)"
   ]
  },
  {
   "cell_type": "code",
   "execution_count": 14,
   "metadata": {},
   "outputs": [],
   "source": [
    "# The noise term can help us see the converage and find the mininum by using sigma "
   ]
  },
  {
   "cell_type": "code",
   "execution_count": 15,
   "metadata": {},
   "outputs": [],
   "source": [
    "# The converage is sooner if we have high sigma."
   ]
  }
 ],
 "metadata": {
  "anaconda-cloud": {},
  "kernelspec": {
   "display_name": "Python 3",
   "language": "python",
   "name": "python3"
  },
  "language_info": {
   "codemirror_mode": {
    "name": "ipython",
    "version": 3
   },
   "file_extension": ".py",
   "mimetype": "text/x-python",
   "name": "python",
   "nbconvert_exporter": "python",
   "pygments_lexer": "ipython3",
   "version": "3.8.8"
  }
 },
 "nbformat": 4,
 "nbformat_minor": 2
}
