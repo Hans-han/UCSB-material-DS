{
 "cells": [
  {
   "cell_type": "markdown",
   "metadata": {},
   "source": [
    "# Python Homework 1\n",
    "\n",
    "**Due date:** October 5, 11:59 p.m. via GauchoSpace\n",
    "\n",
    "**Instruction:** Please upload your pdf or html file with your code and result on GauchoSpace with filename \"PythonHW1_YOURPERMNUMBER\".\n"
   ]
  },
  {
   "cell_type": "markdown",
   "metadata": {},
   "source": [
    "The purpose of this Python Homework is to practice with sampling from a distribution with the __NumPy Package__.\n",
    "\n",
    "_Attention:_ Don't forget to import the necessary packages!"
   ]
  },
  {
   "cell_type": "code",
   "execution_count": 55,
   "metadata": {},
   "outputs": [],
   "source": [
    "import numpy as np\n",
    "import numpy.random as npr\n",
    "import matplotlib\n",
    "from matplotlib import pyplot as plt\n",
    "import pandas as pd\n",
    "import seaborn as sns"
   ]
  },
  {
   "cell_type": "markdown",
   "metadata": {},
   "source": [
    "## Problem 1 (6 Points)"
   ]
  },
  {
   "cell_type": "markdown",
   "metadata": {},
   "source": [
    "1. Simulate 100,000 realizations from the binomial distribution with $N$=2500 trails and success probability $p$=0.45."
   ]
  },
  {
   "cell_type": "code",
   "execution_count": 17,
   "metadata": {},
   "outputs": [
    {
     "data": {
      "text/plain": [
       "array([1162, 1132, 1130, ..., 1165, 1093, 1128])"
      ]
     },
     "execution_count": 17,
     "metadata": {},
     "output_type": "execute_result"
    }
   ],
   "source": [
    "# WRITE YOUR OWN CODE HERE! FEEL FREE TO INSERT MORE CELLS!\n",
    "# ADD SOME COMMENTS TO YOUR CODE!\n",
    "n = 2500 # trails\n",
    "p = 0.45 # prob\n",
    "sample = npr.binomial(n,p, 100000) #100000 simulations\n",
    "sample"
   ]
  },
  {
   "cell_type": "markdown",
   "metadata": {},
   "source": [
    "2. Compute the empirical mean and the empricial standard deviation of your sample and compare these values with the theoretical values."
   ]
  },
  {
   "cell_type": "code",
   "execution_count": 40,
   "metadata": {},
   "outputs": [
    {
     "name": "stdout",
     "output_type": "stream",
     "text": [
      "1125.04023\n",
      "24.86293328525619\n"
     ]
    }
   ],
   "source": [
    "# WRITE YOUR OWN CODE HERE! FEEL FREE TO INSERT MORE CELLS!\n",
    "# ADD SOME COMMENTS TO YOUR CODE!\n",
    "emp_mean = np.mean(sample)\n",
    "emp_stdev = np.std(sample)\n",
    "\n",
    "print(emp_mean)\n",
    "print(emp_stdev)"
   ]
  },
  {
   "cell_type": "code",
   "execution_count": 41,
   "metadata": {},
   "outputs": [
    {
     "name": "stdout",
     "output_type": "stream",
     "text": [
      "1125.0\n",
      "24.8746859276655\n"
     ]
    }
   ],
   "source": [
    "# theoretical mean\n",
    "mean = 2500*0.45\n",
    "print(mean)\n",
    "\n",
    "# theoretical_std\n",
    "std = np.sqrt(2500*0.45*(1-0.45))\n",
    "print(std)\n"
   ]
  },
  {
   "cell_type": "markdown",
   "metadata": {},
   "source": [
    "3. Plot a histogram of your sample with the absolute number of counts for each bin. Choose 50 bins."
   ]
  },
  {
   "cell_type": "code",
   "execution_count": 62,
   "metadata": {},
   "outputs": [
    {
     "data": {
      "text/plain": [
       "(array([2.000e+00, 6.000e+00, 6.000e+00, 6.000e+00, 2.600e+01, 3.900e+01,\n",
       "        8.000e+01, 1.050e+02, 1.510e+02, 2.430e+02, 3.600e+02, 5.540e+02,\n",
       "        9.870e+02, 1.083e+03, 1.466e+03, 1.935e+03, 2.514e+03, 2.969e+03,\n",
       "        4.665e+03, 4.451e+03, 4.956e+03, 5.403e+03, 6.099e+03, 6.257e+03,\n",
       "        6.317e+03, 7.969e+03, 6.218e+03, 5.814e+03, 5.213e+03, 4.668e+03,\n",
       "        4.124e+03, 4.379e+03, 2.723e+03, 2.132e+03, 1.696e+03, 1.284e+03,\n",
       "        9.590e+02, 7.960e+02, 4.930e+02, 3.040e+02, 2.100e+02, 1.230e+02,\n",
       "        9.200e+01, 6.300e+01, 1.700e+01, 2.200e+01, 1.400e+01, 2.000e+00,\n",
       "        3.000e+00, 2.000e+00]),\n",
       " array([1022.  , 1026.16, 1030.32, 1034.48, 1038.64, 1042.8 , 1046.96,\n",
       "        1051.12, 1055.28, 1059.44, 1063.6 , 1067.76, 1071.92, 1076.08,\n",
       "        1080.24, 1084.4 , 1088.56, 1092.72, 1096.88, 1101.04, 1105.2 ,\n",
       "        1109.36, 1113.52, 1117.68, 1121.84, 1126.  , 1130.16, 1134.32,\n",
       "        1138.48, 1142.64, 1146.8 , 1150.96, 1155.12, 1159.28, 1163.44,\n",
       "        1167.6 , 1171.76, 1175.92, 1180.08, 1184.24, 1188.4 , 1192.56,\n",
       "        1196.72, 1200.88, 1205.04, 1209.2 , 1213.36, 1217.52, 1221.68,\n",
       "        1225.84, 1230.  ]),\n",
       " <BarContainer object of 50 artists>)"
      ]
     },
     "execution_count": 62,
     "metadata": {},
     "output_type": "execute_result"
    },
    {
     "data": {
      "image/png": "[encoded data removed]",
      "text/plain": [
       "<Figure size 432x288 with 1 Axes>"
      ]
     },
     "metadata": {
      "needs_background": "light"
     },
     "output_type": "display_data"
    }
   ],
   "source": [
    "# WRITE YOUR OWN CODE HERE! FEEL FREE TO INSERT MORE CELLS!\n",
    "# ADD SOME COMMENTS TO YOUR CODE!\n",
    "sam_hist = plt.hist(sample, bins=50)\n",
    "sam_hist\n"
   ]
  },
  {
   "cell_type": "markdown",
   "metadata": {},
   "source": [
    "4. Standardize your sample, that is, subtract the emprical mean and divide by the empricial standard deviation."
   ]
  },
  {
   "cell_type": "code",
   "execution_count": 48,
   "metadata": {},
   "outputs": [
    {
     "data": {
      "text/plain": [
       "array([ 1.48654101,  0.27992554,  0.19948451, ...,  1.60720256,\n",
       "       -1.28867458,  0.11904348])"
      ]
     },
     "execution_count": 48,
     "metadata": {},
     "output_type": "execute_result"
    }
   ],
   "source": [
    "# WRITE YOUR OWN CODE HERE! FEEL FREE TO INSERT MORE CELLS!\n",
    "# ADD SOME COMMENTS TO YOUR CODE!\n",
    "sta_sample = (sample- emp_mean)/emp_stdev\n",
    "sta_sample"
   ]
  },
  {
   "cell_type": "markdown",
   "metadata": {},
   "source": [
    "5. Plot a histogram of your standardized sample with the counts normalized to form a probability density. Choose again 50 bins. Compare your histrogram with the density of the standard normal distribution by inserting its density into the histogram plot. "
   ]
  },
  {
   "cell_type": "code",
   "execution_count": 65,
   "metadata": {},
   "outputs": [
    {
     "name": "stderr",
     "output_type": "stream",
     "text": [
      "/Applications/anaconda3/lib/python3.8/site-packages/seaborn/distributions.py:2557: FutureWarning: `distplot` is a deprecated function and will be removed in a future version. Please adapt your code to use either `displot` (a figure-level function with similar flexibility) or `histplot` (an axes-level function for histograms).\n",
      "  warnings.warn(msg, FutureWarning)\n"
     ]
    },
    {
     "data": {
      "text/plain": [
       "<AxesSubplot:ylabel='Density'>"
      ]
     },
     "execution_count": 65,
     "metadata": {},
     "output_type": "execute_result"
    },
    {
     "data": {
      "image/png": "[encoded data removed]",
      "text/plain": [
       "<Figure size 432x288 with 1 Axes>"
      ]
     },
     "metadata": {
      "needs_background": "light"
     },
     "output_type": "display_data"
    }
   ],
   "source": [
    "# WRITE YOUR OWN CODE HERE! FEEL FREE TO INSERT MORE CELLS!\n",
    "# ADD SOME COMMENTS TO YOUR CODE!\n",
    "sta_sample_hist = plt.hist(sta_sample, bins=50)\n",
    "sta_sample_hist\n",
    "\n",
    "sns.distplot(sta_sample, hist=True, kde=True, \n",
    "             bins=50, color = 'red', \n",
    "             hist_kws={'edgecolor':'black'},\n",
    "             kde_kws={'linewidth': 4})"
   ]
  },
  {
   "cell_type": "markdown",
   "metadata": {},
   "source": [
    "## Problem 2 (4 Points)"
   ]
  },
  {
   "cell_type": "markdown",
   "metadata": {},
   "source": [
    "1. Implement the simulation of a biased 6-sided die which takes the values 1,2,3,4,5,6 with probabilities 1/8,1/12,1/8,1/12,1/4,1/3."
   ]
  },
  {
   "cell_type": "code",
   "execution_count": 44,
   "metadata": {},
   "outputs": [],
   "source": [
    "# WRITE YOUR OWN CODE HERE! FEEL FREE TO INSERT MORE CELLS!\n",
    "# ADD SOME COMMENTS TO YOUR CODE!\n",
    "die = [1, 2, 3, 4, 5, 6]   # 6-sided die\n",
    "prob = [1/8,1/12,1/8,1/12,1/4,1/3]  # prob\n"
   ]
  },
  {
   "cell_type": "markdown",
   "metadata": {},
   "source": [
    "2. Plot a histrogramm with 1,000,000 simulations to check if the relative counts of each number is approximately equal to the corresponding specified probabilities.\n",
    "\n",
    "_Remark:_ Specify the bins of your histogram correctly."
   ]
  },
  {
   "cell_type": "code",
   "execution_count": 80,
   "metadata": {},
   "outputs": [
    {
     "data": {
      "text/plain": [
       "[0.12516, 0.083301, 0.125319, 0.08347, 0.250295, 0.332455]"
      ]
     },
     "execution_count": 80,
     "metadata": {},
     "output_type": "execute_result"
    },
    {
     "data": {
      "image/png": "[encoded data removed]",
      "text/plain": [
       "<Figure size 432x288 with 1 Axes>"
      ]
     },
     "metadata": {
      "needs_background": "light"
     },
     "output_type": "display_data"
    }
   ],
   "source": [
    "# WRITE YOUR OWN CODE HERE! FEEL FREE TO INSERT MORE CELLS!\n",
    "# ADD SOME COMMENTS TO YOUR CODE!\n",
    "\n",
    "rolls = list(np.random.choice(die, 1000000, p= prob)) # random variable\n",
    "plt.hist(rolls, bins = 6)  # plot\n",
    "\n",
    "counts = [rolls.count(i) for i in die] #count each side\n",
    "\n",
    "prob2 = [counts[i]/1000000.0 for i in range(6)] #compute each side prob\n",
    "prob2"
   ]
  },
  {
   "cell_type": "code",
   "execution_count": null,
   "metadata": {
    "tags": []
   },
   "outputs": [],
   "source": []
  }
 ],
 "metadata": {
  "kernelspec": {
   "display_name": "Python 3",
   "language": "python",
   "name": "python3"
  },
  "language_info": {
   "codemirror_mode": {
    "name": "ipython",
    "version": 3
   },
   "file_extension": ".py",
   "mimetype": "text/x-python",
   "name": "python",
   "nbconvert_exporter": "python",
   "pygments_lexer": "ipython3",
   "version": "3.8.8"
  }
 },
 "nbformat": 4,
 "nbformat_minor": 4
}
