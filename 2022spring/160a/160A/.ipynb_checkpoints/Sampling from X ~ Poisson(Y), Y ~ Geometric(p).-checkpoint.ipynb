{
 "cells": [
  {
   "cell_type": "code",
   "execution_count": 131,
   "id": "c7e2aa61",
   "metadata": {
    "scrolled": false
   },
   "outputs": [
    {
     "name": "stdout",
     "output_type": "stream",
     "text": [
      "2.85529\n",
      "2.85896\n",
      "2.857142857142857\n"
     ]
    }
   ],
   "source": [
    "import numpy as np\n",
    "import numpy.random as npr\n",
    "import matplotlib.pyplot as plt\n",
    "p = 0.35\n",
    "Y1 = np.random.geometric(p=p, size=1) #Sample a single observation, Y1, from the Geometric(0.35) distribution.\n",
    "X1 = np.random.poisson(lam = Y1, size = 1) #Using the value of Y1 from above, sample a single observation, X1, from the Poisson(Y1) distribution.\n",
    "\n",
    "n = 100000\n",
    "Y = np.random.geometric(p=0.35, size=n) #Sample n observations, Y1,Y2,...,Y_n, from the Geometric(0.35) distribution.\n",
    "X = np.random.poisson(lam = Y, size = n) #For each i = 1,2,...,n, sample Xi from a Poisson(Yi) distribution.\n",
    "\n",
    "meanx = sum(X)/len(X) #Estimate E(X) using the sample average. Observe that the estimate is close to 1/p\n",
    "meany = sum(Y)/len(Y)\n",
    "\n",
    "print(meany)\n",
    "print(meanx)\n",
    "print(1/p)\n"
   ]
  },
  {
   "cell_type": "code",
   "execution_count": 129,
   "id": "badb1776",
   "metadata": {},
   "outputs": [
    {
     "data": {
      "image/png": "[encoded data removed]",
      "text/plain": [
       "<Figure size 432x288 with 1 Axes>"
      ]
     },
     "metadata": {
      "needs_background": "light"
     },
     "output_type": "display_data"
    }
   ],
   "source": [
    "weights = np.ones_like(Y)/float(len(Y))\n",
    "a, b, c = plt.hist(Y, weights=weights, align='left', ec='black', bins = range(0,max(Y)))  #Plot all of the Y observations. Note that they follow a Geometric distribution.\n",
    "plt.ylabel('Probability')\n",
    "plt.xlabel('Data');"
   ]
  },
  {
   "cell_type": "code",
   "execution_count": 130,
   "id": "2e676bdf",
   "metadata": {},
   "outputs": [
    {
     "data": {
      "image/png": "[encoded data removed]",
      "text/plain": [
       "<Figure size 432x288 with 1 Axes>"
      ]
     },
     "metadata": {
      "needs_background": "light"
     },
     "output_type": "display_data"
    }
   ],
   "source": [
    "weights = np.ones_like(X)/float(len(X))\n",
    "plt.hist(X, weights = weights, align = 'left', ec='black', bins = range(0,max(X))) #Plot the values of X1,X2,...,Xn sampled above. \n",
    "plt.ylabel('Probability')\n",
    "plt.xlabel('Data');"
   ]
  }
 ],
 "metadata": {
  "kernelspec": {
   "display_name": "Python 3",
   "language": "python",
   "name": "python3"
  },
  "language_info": {
   "codemirror_mode": {
    "name": "ipython",
    "version": 3
   },
   "file_extension": ".py",
   "mimetype": "text/x-python",
   "name": "python",
   "nbconvert_exporter": "python",
   "pygments_lexer": "ipython3",
   "version": "3.8.8"
  }
 },
 "nbformat": 4,
 "nbformat_minor": 5
}
