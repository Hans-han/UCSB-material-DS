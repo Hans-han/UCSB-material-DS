{
 "cells": [
  {
   "cell_type": "markdown",
   "metadata": {},
   "source": [
    "# Python Homework 5\n",
    "\n",
    "**Due date:** Tuesday, November 30, via GradeScope\n",
    "\n",
    "**Instruction:** Please upload your .pdf file on GauchoSpace with filename \"PythonHW5_YOURPERMNUMBER.pdf\"."
   ]
  },
  {
   "cell_type": "markdown",
   "metadata": {},
   "source": [
    "# Problem 1 (10 pt)\n",
    "\n",
    "Consider the cat and snake problem from Assignment #6.\n",
    "\n",
    "Simulate $N \\doteq10^4$ realizations of the respective Markov Chain where Teddy the cat begins in room $1$ and wanders around the maze until finding the his pet snake. Each Markov chain trajectory should be simulated until Teddy reaches his pet snake (so you only have to run it until he reaches his pet snake). \n",
    "\n",
    "Let us suppose that each of the areas contains cat treats. In particular, each time Teddy visits area $k$, he gets $k$ cat treats. So for example every time (including at the very beginning) that Teddy is in area 1, he gets 1 cat treat. We want to compute the total number of cat treats Teddy will get on average before he reaches the snake.\n",
    "\n",
    "Estimate the mean and variance of the total snacks the cat treats Teddy will get based on the above $N$ simulated trajectories.\n",
    "\n",
    "__Note:__ an exact answer to this question is also possible using first-step analysis in case you really wanted to double-check yourself.\n"
   ]
  },
  {
   "cell_type": "markdown",
   "metadata": {},
   "source": [
    "As usual, we start with loading some packages:"
   ]
  },
  {
   "cell_type": "code",
   "execution_count": 3,
   "metadata": {},
   "outputs": [],
   "source": [
    "import numpy as np \n",
    "from numpy import linalg \n",
    "import scipy.linalg"
   ]
  },
  {
   "cell_type": "code",
   "execution_count": 3,
   "metadata": {},
   "outputs": [],
   "source": [
    "# WRITE YOUR OWN CODE HERE! \n",
    "# You need to type in the transition matrix and the function to simulate trajectories of Teddy wondering across the areas\n"
   ]
  },
  {
   "cell_type": "code",
   "execution_count": 15,
   "metadata": {},
   "outputs": [],
   "source": [
    "initState = 1\n",
    "\n",
    "N = 10**5\n",
    "totalTreats = []\n",
    "\n",
    "for i in range(N):\n",
    "    \n",
    "# WRITE YOUR OWN CODE HERE to figure out the tT (total Treats) on that trajectory!\n",
    "    \n",
    "    totalTreats.append(tT)"
   ]
  },
  {
   "cell_type": "markdown",
   "metadata": {},
   "source": [
    "Finally estimate the mean and variance of totalTreats"
   ]
  },
  {
   "cell_type": "code",
   "execution_count": 12,
   "metadata": {},
   "outputs": [],
   "source": [
    "# Write your own code here\n"
   ]
  },
  {
   "cell_type": "markdown",
   "metadata": {},
   "source": [
    "# Problem 2 (10 pt)\n",
    "\n",
    "You start with five dice. Roll all the dice and put aside those dice that land on 6. Then, roll the remaining dice, putting aside those dice that land on 6. And so on, until no dice are left.\n",
    "\n",
    "Using $10^5$ experiments, estimate the probability that it will take *more than 10 rounds* to end this game.\n",
    "\n",
    "__Hint:__ you can work directly with rolling the dice (via dieRoll = 1+ np.random.choice(a = range(6)) ) and tracking which ones remain, or you can setup a Markov Chain $(X_n)$ for the number of dice remaining and work with the respective transition matrix. If you do the latter, be sure to clearly type out $P$ as part of your solution. Note that Markov Chain approach gets a bit cumbersome if you increase the number of dice to roll.\n"
   ]
  },
  {
   "cell_type": "code",
   "execution_count": null,
   "metadata": {},
   "outputs": [],
   "source": [
    "# Write your code here"
   ]
  }
 ],
 "metadata": {
  "anaconda-cloud": {},
  "kernelspec": {
   "display_name": "Python 3",
   "language": "python",
   "name": "python3"
  },
  "language_info": {
   "codemirror_mode": {
    "name": "ipython",
    "version": 3
   },
   "file_extension": ".py",
   "mimetype": "text/x-python",
   "name": "python",
   "nbconvert_exporter": "python",
   "pygments_lexer": "ipython3",
   "version": "3.8.8"
  }
 },
 "nbformat": 4,
 "nbformat_minor": 2
}
