{
 "cells": [
  {
   "cell_type": "markdown",
   "metadata": {},
   "source": [
    "## PSTAT 160A Fall 2021 Python Homework 2\n",
    "\n",
    "**Due date:** Friday, October 15, 11:59 p.m. via GauchoSpace\n",
    "\n",
    "**Instructions:** Please upload your PDF or HTML file on Gradescope with filename \"PythonHW2_YOURPERMNUMBER\".\n"
   ]
  },
  {
   "cell_type": "markdown",
   "metadata": {},
   "source": [
    "## Problem 1 (10 pts total)\n",
    "__Background__:\n",
    "A stochastic model for a car insurance company's total cost of damages from traffic accidents goes back to the work by Van der Lann and Louter, \"A statistical model for the costs of passenger car traffic accidents\", Journal of the Royal Statistical Society (1986).\n",
    "\n",
    "For every $k=1,2,3\\ldots$ we denote by the random variable $X_k$ the US dollar amount of a damage from a policy holder's traffic accident which will occur during the year 2020.\n",
    "\n",
    "We assume that $X_1$, $X_2$,... is an i.i.d. sequence of exponential distributed random variables with an average claim size of \\$1,500 USD.  \n",
    "\n",
    "The (random) total number of accidents $N$ in 2020 is expected to be Poisson distributed with 25 claims on average.\n",
    "\n",
    "It is assumed that the number of accidents is independent of the US dollar amount of damages for each accident. That is, the random variable $N$ is independent of the random variables $X_1$, $X_2$,...\n",
    "\n",
    "The total costs for the insurance company by the end of 2020 will thus be given by the __random sum__ $S_N$ defined as\n",
    "\n",
    "$$S_N = X_1 + X_2 + \\dots + X_N = \\sum_{k = 1}^{N} X_k.$$\n",
    "\n",
    "Note again that the total number $N$ of accidents is random"
   ]
  },
  {
   "cell_type": "markdown",
   "metadata": {},
   "source": [
    "The goal of the current exercise is to approximate the expected total costs $$\\mathbb{E}[S_N]$$ for the insurance company in 2020 via simulations."
   ]
  },
  {
   "cell_type": "markdown",
   "metadata": {},
   "source": [
    "As usual, we start with loading some packages:"
   ]
  },
  {
   "cell_type": "code",
   "execution_count": 1,
   "metadata": {},
   "outputs": [],
   "source": [
    "import numpy as np\n",
    "import math"
   ]
  },
  {
   "cell_type": "markdown",
   "metadata": {},
   "source": [
    "### Step 1: (5 Points)\n",
    "\n",
    "Write a function called <tt>randomSum(...)</tt> which simulates the random variable $S_N$. \n",
    "\n",
    "Input:\n",
    "* <tt>averageClaimSize</tt>: Average USD amount per claim\n",
    "* <tt>averageNumberOfClaims</tt>: Average number of claims/accidents in 2020\n",
    "\n",
    "Output:\n",
    "* <tt>sampleRandomSum</tt>: A single scalar being one sample from the random variable $S_N$\n",
    "\n",
    "<i>Hint:</i> Use build-in functions from the <i>NumPy</i>-package in your code in order to sample from a Poisson distribution and from an exponential distribution!"
   ]
  },
  {
   "cell_type": "code",
   "execution_count": 2,
   "metadata": {},
   "outputs": [],
   "source": [
    "def randomSum(averageClaimSize, averageNumberOfClaims): \n",
    "    N = np.random.poisson(averageNumberOfClaims)\n",
    "    X = np.random.exponential(averageClaimSize, N)\n",
    "    sampleRandomSum = sum(X)   \n",
    "    return sampleRandomSum  "
   ]
  },
  {
   "cell_type": "code",
   "execution_count": 3,
   "metadata": {},
   "outputs": [
    {
     "data": {
      "text/plain": [
       "35966.969749132804"
      ]
     },
     "execution_count": 3,
     "metadata": {},
     "output_type": "execute_result"
    }
   ],
   "source": [
    "## TEST YOUR FUNCTION HERE\n",
    "randomSum(1500,25)"
   ]
  },
  {
   "cell_type": "markdown",
   "metadata": {},
   "source": [
    "### Step 2: (3 Points)\n",
    "\n",
    "Write a simulator function called <tt>simulator()</tt> which uses the function <tt>randomSum()</tt> from Step 1 to simulate $M \\in \\mathbb{N}$ samples from the random variable $S_N$. \n",
    "\n",
    "Input: \n",
    "* <tt>averageClaimSize</tt>: Average USD amount per claim\n",
    "* <tt>averageNumberOfClaims</tt>: Average number of claims/accidents in 2020\n",
    "* <tt>M</tt>: Number of Simulations\n",
    "\n",
    "Output:\n",
    "* <tt>samples</tt>: An array of length $M$ with samples from the random variable $S_N$."
   ]
  },
  {
   "cell_type": "code",
   "execution_count": 4,
   "metadata": {},
   "outputs": [],
   "source": [
    "def simulator(averageClaimSize, averageNumberOfClaims, M):\n",
    "    S_array = []\n",
    "    for i in range(M):\n",
    "        S_array.append(randomSum(averageClaimSize, averageNumberOfClaims))\n",
    "    S_array = np.array(S_array)\n",
    "    \n",
    "    return S_array"
   ]
  },
  {
   "cell_type": "code",
   "execution_count": 5,
   "metadata": {},
   "outputs": [
    {
     "data": {
      "text/plain": [
       "array([17215.75864706, 31415.85387878, 42190.93266363, 27714.02261768,\n",
       "       40073.6879048 , 24397.74853553, 26998.45631304, 20521.41012746,\n",
       "       18669.10352238, 62216.6654641 ])"
      ]
     },
     "execution_count": 5,
     "metadata": {},
     "output_type": "execute_result"
    }
   ],
   "source": [
    "## TEST YOUR FUNCTION HERE\n",
    "simulator(1500,25,10)"
   ]
  },
  {
   "cell_type": "markdown",
   "metadata": {},
   "source": [
    "### Step 3: (2 Points)\n",
    "\n",
    "As we have shown in class, it holds via __Wald's Identity__ that the expectation of the random sum $S_N$ is given by the formula\n",
    "\n",
    "\\begin{equation}\n",
    "\\mathbb{E}[S_N] = \\mathbb{E}[N] \\cdot \\mathbb{E}[X_1] = 25 \\cdot \\$1,500 = \\$37,500.\n",
    "\\end{equation}\n",
    "\n",
    "Check via the empirical mean that\n",
    "\n",
    "$$\\frac{1}{M} \\sum_{m=1}^M s^{(m)}_N \\approx \\mathbb{E}[S_N] = \\$37,500$$\n",
    "\n",
    "where $s^{(1)}_N, s^{(2)}_N, \\ldots, s^{(M)}_N$ denote $M$ independent realizations (samples) from the random variable $S_N$. \n",
    "\n",
    "Use $M = 10, 100, 1000, 10000, 50000$ simulations.  "
   ]
  },
  {
   "cell_type": "markdown",
   "metadata": {},
   "source": [
    "That is, write a function <tt>MCsimulation(...)</tt> which uses the function <tt>simulator(...)</tt> from Step 2 to compute the empirical mean. \n",
    "\n",
    "\n",
    "Input: \n",
    "* <tt>averageClaimSize</tt>: Average USD amount per claim\n",
    "* <tt>averageNumberOfClaims</tt>: Average number of claims/accidents in 2020\n",
    "* <tt>M</tt>: Number of Simulations\n",
    "\n",
    "Output:\n",
    "* <tt>empricialMean</tt>: A real number in $\\mathbb{R}_+$."
   ]
  },
  {
   "cell_type": "code",
   "execution_count": 6,
   "metadata": {},
   "outputs": [],
   "source": [
    "def MCsimulation(averageClaimSize, averageNumberOfClaims, M): # 2 points\n",
    "    empricialMean = np.mean(simulator(averageClaimSize, averageNumberOfClaims, M))\n",
    "    ### WRITE YOUR OWN CODE HERE\n",
    "     \n",
    "    return empricialMean"
   ]
  },
  {
   "cell_type": "code",
   "execution_count": 7,
   "metadata": {},
   "outputs": [
    {
     "data": {
      "text/plain": [
       "41528.352109796244"
      ]
     },
     "execution_count": 7,
     "metadata": {},
     "output_type": "execute_result"
    }
   ],
   "source": [
    "## TEST YOUR FUNCTION HERE\n",
    "MCsimulation(1500, 25, 1)"
   ]
  },
  {
   "cell_type": "code",
   "execution_count": 8,
   "metadata": {},
   "outputs": [
    {
     "name": "stdout",
     "output_type": "stream",
     "text": [
      "3891.6230694052356\n",
      "769.9493631897712\n",
      "41.61604138536495\n",
      "66.12872649600467\n",
      "81.55770470710559\n"
     ]
    }
   ],
   "source": [
    "## Compute the absolute error\n",
    "print(np.absolute(MCsimulation(1500, 25, 10)-37500))\n",
    "print(np.absolute(MCsimulation(1500, 25, 100)-37500))\n",
    "print(np.absolute(MCsimulation(1500, 25, 1000)-37500))\n",
    "print(np.absolute(MCsimulation(1500, 25, 10000)-37500))\n",
    "print(np.absolute(MCsimulation(1500, 25, 50000)-37500))"
   ]
  },
  {
   "cell_type": "markdown",
   "metadata": {},
   "source": [
    "## Problem 2 (5 Points)\n",
    "\n",
    "A health insurance will pay for a medical expense subject to a USD 100 deductible. Assume that the amount of the expense is __Gamma__ distributed with scale parameter 100 and shape parameter 2 (the mean is 100*2 dollars). This can be simulated using np.random.gamma(shape, scale, n)\n",
    "\n",
    "Compute the empirical _mean_ and empirical _standard deviation_ of the payout by the insurance company by using 100,000 samples."
   ]
  },
  {
   "cell_type": "code",
   "execution_count": 28,
   "metadata": {},
   "outputs": [
    {
     "name": "stdout",
     "output_type": "stream",
     "text": [
      "empirical mean: 100.01048565464755\n",
      "empirical standard deviation: 20.017796270985542\n"
     ]
    }
   ],
   "source": [
    "# WRITE YOUR OWN CODE HERE! FEEL FREE TO INSERT MORE CELLS!\n",
    "# ADD SOME COMMENTS TO YOUR CODE!\n",
    "n = 100000\n",
    "x = np.random.gamma(100,2,n)\n",
    "for i in range(len(x)):\n",
    "    x[i] -= 100\n",
    "mean = np.mean(x)\n",
    "std = np.std(x)\n",
    "print(\"empirical mean:\",mean)\n",
    "print(\"empirical standard deviation:\",std)"
   ]
  },
  {
   "cell_type": "markdown",
   "metadata": {},
   "source": [
    "## Problem 3 (5 Points)\n",
    "\n",
    "Since the beginning of fall quarter, Adam goes to Woodstock's Pizza every day, orders a slice of pizza, and picks a topping - pepper, mushrooms, pineapple, or onions - uniformly at random. "
   ]
  },
  {
   "cell_type": "markdown",
   "metadata": {},
   "source": [
    "1. Implement a simulator which uniformly samples from one topping:"
   ]
  },
  {
   "cell_type": "code",
   "execution_count": 44,
   "metadata": {},
   "outputs": [
    {
     "data": {
      "text/plain": [
       "'onion'"
      ]
     },
     "execution_count": 44,
     "metadata": {},
     "output_type": "execute_result"
    }
   ],
   "source": [
    "# WRITE YOUR OWN CODE HERE! FEEL FREE TO INSERT MORE CELLS!\n",
    "# ADD SOME COMMENTS TO YOUR CODE!\n",
    "import random\n",
    "def simu_topping():\n",
    "    toppings = ['pepper','mushroom','pineapple','onion']\n",
    "    topping = random.choice(toppings)\n",
    "    return topping\n",
    "simu_topping()"
   ]
  },
  {
   "cell_type": "markdown",
   "metadata": {},
   "source": [
    "2. On the day that Adam first picks pineapple, find the empricial _mean_ and empirical _standard deviation_ of the number of prior days in which he picked mushroom by running 100,000 simulations. [As you might realize, this is very similar to the question about rolling 5's before the first '6' appears that we did in class -- now we solve it/verify the answer by simulation]\n",
    "\n"
   ]
  },
  {
   "cell_type": "code",
   "execution_count": 73,
   "metadata": {},
   "outputs": [
    {
     "name": "stdout",
     "output_type": "stream",
     "text": [
      "4\n",
      "4.0\n",
      "5\n"
     ]
    }
   ],
   "source": [
    "# WRITE YOUR OWN CODE HERE! FEEL FREE TO INSERT MORE CELLS!\n",
    "# ADD SOME COMMENTS TO YOUR CODE!\n",
    "sum_day = 0\n",
    "n = 0\n",
    "for i in range(100000):\n",
    "    if (simu_topping() == 'mushroom'):\n",
    "        sum_day+=i\n",
    "        n+=1\n",
    "    if (simu_topping() == 'pineapple'):\n",
    "        mean = sum_day/n\n",
    "        print(sum_day)\n",
    "        print(mean)\n",
    "        print(i)\n",
    "        break\n",
    "        "
   ]
  }
 ],
 "metadata": {
  "kernelspec": {
   "display_name": "Python 3",
   "language": "python",
   "name": "python3"
  },
  "language_info": {
   "codemirror_mode": {
    "name": "ipython",
    "version": 3
   },
   "file_extension": ".py",
   "mimetype": "text/x-python",
   "name": "python",
   "nbconvert_exporter": "python",
   "pygments_lexer": "ipython3",
   "version": "3.8.8"
  }
 },
 "nbformat": 4,
 "nbformat_minor": 2
}
