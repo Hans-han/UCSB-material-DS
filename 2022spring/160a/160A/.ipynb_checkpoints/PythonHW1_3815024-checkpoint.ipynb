{
 "cells": [
  {
   "cell_type": "markdown",
   "metadata": {},
   "source": [
    "# Python Homework 1\n",
    "\n",
    "**Due date:** October 5, 11:59 p.m. via GauchoSpace\n",
    "\n",
    "**Instruction:** Please upload your pdf or html file with your code and result on GauchoSpace with filename \"PythonHW1_YOURPERMNUMBER\".\n"
   ]
  },
  {
   "cell_type": "markdown",
   "metadata": {},
   "source": [
    "The purpose of this Python Homework is to practice with sampling from a distribution with the __NumPy Package__.\n",
    "\n",
    "_Attention:_ Don't forget to import the necessary packages!"
   ]
  },
  {
   "cell_type": "code",
   "execution_count": 1,
   "metadata": {},
   "outputs": [],
   "source": [
    "import numpy as np\n",
    "import numpy.random as npr\n",
    "import matplotlib\n",
    "from matplotlib import pyplot as plt\n",
    "import pandas as pd\n",
    "import seaborn as sns\n",
    "import matplotlib\n",
    "from matplotlib import pyplot\n",
    "import numpy, numpy.random"
   ]
  },
  {
   "cell_type": "markdown",
   "metadata": {},
   "source": [
    "## Problem 1 (6 Points)"
   ]
  },
  {
   "cell_type": "markdown",
   "metadata": {},
   "source": [
    "1. Simulate 100,000 realizations from the binomial distribution with $N$=2500 trails and success probability $p$=0.45."
   ]
  },
  {
   "cell_type": "code",
   "execution_count": 2,
   "metadata": {},
   "outputs": [
    {
     "data": {
      "text/plain": [
       "array([1111, 1113, 1095, ..., 1118, 1140, 1142])"
      ]
     },
     "execution_count": 2,
     "metadata": {},
     "output_type": "execute_result"
    }
   ],
   "source": [
    "# WRITE YOUR OWN CODE HERE! FEEL FREE TO INSERT MORE CELLS!\n",
    "# ADD SOME COMMENTS TO YOUR CODE!\n",
    "n = 2500 # trails\n",
    "p = 0.45 # prob\n",
    "sample = npr.binomial(n,p, 100000) #100000 simulations\n",
    "sample"
   ]
  },
  {
   "cell_type": "markdown",
   "metadata": {},
   "source": [
    "2. Compute the empirical mean and the empricial standard deviation of your sample and compare these values with the theoretical values."
   ]
  },
  {
   "cell_type": "code",
   "execution_count": 3,
   "metadata": {},
   "outputs": [
    {
     "name": "stdout",
     "output_type": "stream",
     "text": [
      "1124.98053\n",
      "24.85365870287713\n"
     ]
    }
   ],
   "source": [
    "# WRITE YOUR OWN CODE HERE! FEEL FREE TO INSERT MORE CELLS!\n",
    "# ADD SOME COMMENTS TO YOUR CODE!\n",
    "emp_mean = np.mean(sample)\n",
    "emp_stdev = np.std(sample)\n",
    "\n",
    "print(emp_mean)\n",
    "print(emp_stdev)"
   ]
  },
  {
   "cell_type": "code",
   "execution_count": 4,
   "metadata": {},
   "outputs": [
    {
     "name": "stdout",
     "output_type": "stream",
     "text": [
      "1125.0\n",
      "24.8746859276655\n"
     ]
    }
   ],
   "source": [
    "# theoretical mean\n",
    "mean = 2500*0.45\n",
    "print(mean)\n",
    "\n",
    "# theoretical_std\n",
    "std = np.sqrt(2500*0.45*(1-0.45))\n",
    "print(std)\n"
   ]
  },
  {
   "cell_type": "markdown",
   "metadata": {},
   "source": [
    "3. Plot a histogram of your sample with the absolute number of counts for each bin. Choose 50 bins."
   ]
  },
  {
   "cell_type": "code",
   "execution_count": 5,
   "metadata": {},
   "outputs": [
    {
     "data": {
      "text/plain": [
       "(array([1.000e+00, 0.000e+00, 4.000e+00, 3.000e+00, 8.000e+00, 1.400e+01,\n",
       "        2.900e+01, 5.500e+01, 9.700e+01, 1.140e+02, 2.000e+02, 3.850e+02,\n",
       "        4.500e+02, 8.950e+02, 1.062e+03, 1.330e+03, 2.349e+03, 2.557e+03,\n",
       "        3.056e+03, 4.664e+03, 4.399e+03, 5.119e+03, 6.950e+03, 6.108e+03,\n",
       "        6.281e+03, 8.020e+03, 6.338e+03, 7.393e+03, 5.468e+03, 5.026e+03,\n",
       "        5.371e+03, 3.678e+03, 3.014e+03, 2.946e+03, 1.912e+03, 1.318e+03,\n",
       "        1.207e+03, 6.840e+02, 6.350e+02, 3.380e+02, 1.920e+02, 1.470e+02,\n",
       "        7.700e+01, 5.000e+01, 2.900e+01, 1.000e+01, 1.000e+01, 4.000e+00,\n",
       "        2.000e+00, 1.000e+00]),\n",
       " array([1014.  , 1018.36, 1022.72, 1027.08, 1031.44, 1035.8 , 1040.16,\n",
       "        1044.52, 1048.88, 1053.24, 1057.6 , 1061.96, 1066.32, 1070.68,\n",
       "        1075.04, 1079.4 , 1083.76, 1088.12, 1092.48, 1096.84, 1101.2 ,\n",
       "        1105.56, 1109.92, 1114.28, 1118.64, 1123.  , 1127.36, 1131.72,\n",
       "        1136.08, 1140.44, 1144.8 , 1149.16, 1153.52, 1157.88, 1162.24,\n",
       "        1166.6 , 1170.96, 1175.32, 1179.68, 1184.04, 1188.4 , 1192.76,\n",
       "        1197.12, 1201.48, 1205.84, 1210.2 , 1214.56, 1218.92, 1223.28,\n",
       "        1227.64, 1232.  ]),\n",
       " <BarContainer object of 50 artists>)"
      ]
     },
     "execution_count": 5,
     "metadata": {},
     "output_type": "execute_result"
    },
    {
     "data": {
      "image/png": "[encoded data removed]",
      "text/plain": [
       "<Figure size 432x288 with 1 Axes>"
      ]
     },
     "metadata": {
      "needs_background": "light"
     },
     "output_type": "display_data"
    }
   ],
   "source": [
    "# WRITE YOUR OWN CODE HERE! FEEL FREE TO INSERT MORE CELLS!\n",
    "# ADD SOME COMMENTS TO YOUR CODE!\n",
    "sam_hist = plt.hist(sample, bins=50)\n",
    "sam_hist\n"
   ]
  },
  {
   "cell_type": "markdown",
   "metadata": {},
   "source": [
    "4. Standardize your sample, that is, subtract the emprical mean and divide by the empricial standard deviation."
   ]
  },
  {
   "cell_type": "code",
   "execution_count": 6,
   "metadata": {},
   "outputs": [
    {
     "data": {
      "text/plain": [
       "array([-0.56251396, -0.48204291, -1.20628236, ..., -0.28086529,\n",
       "        0.60431626,  0.68478731])"
      ]
     },
     "execution_count": 6,
     "metadata": {},
     "output_type": "execute_result"
    }
   ],
   "source": [
    "# WRITE YOUR OWN CODE HERE! FEEL FREE TO INSERT MORE CELLS!\n",
    "# ADD SOME COMMENTS TO YOUR CODE!\n",
    "sta_sample = (sample- emp_mean)/emp_stdev\n",
    "sta_sample"
   ]
  },
  {
   "cell_type": "markdown",
   "metadata": {},
   "source": [
    "5. Plot a histogram of your standardized sample with the counts normalized to form a probability density. Choose again 50 bins. Compare your histrogram with the density of the standard normal distribution by inserting its density into the histogram plot. "
   ]
  },
  {
   "cell_type": "code",
   "execution_count": 14,
   "metadata": {},
   "outputs": [
    {
     "data": {
      "image/png": "[encoded data removed]",
      "text/plain": [
       "<Figure size 432x288 with 1 Axes>"
      ]
     },
     "metadata": {
      "needs_background": "light"
     },
     "output_type": "display_data"
    }
   ],
   "source": [
    "# WRITE YOUR OWN CODE HERE! FEEL FREE TO INSERT MORE CELLS!\n",
    "# ADD SOME COMMENTS TO YOUR CODE!\n",
    "mu, sigma = 0, 1\n",
    "count, bins, ignored = pyplot.hist(sta_sample, 50, density=True)\n",
    "\n",
    "pyplot.plot(bins, 1/(sigma * numpy.sqrt(2 * numpy.pi)) * numpy.exp( - (bins - mu)**2 / (2 * sigma**2) ), \n",
    "         linewidth=2, color='r')\n",
    "pyplot.show()"
   ]
  },
  {
   "cell_type": "markdown",
   "metadata": {},
   "source": [
    "## Problem 2 (4 Points)"
   ]
  },
  {
   "cell_type": "markdown",
   "metadata": {},
   "source": [
    "1. Implement the simulation of a biased 6-sided die which takes the values 1,2,3,4,5,6 with probabilities 1/8,1/12,1/8,1/12,1/4,1/3."
   ]
  },
  {
   "cell_type": "code",
   "execution_count": 16,
   "metadata": {},
   "outputs": [],
   "source": [
    "# WRITE YOUR OWN CODE HERE! FEEL FREE TO INSERT MORE CELLS!\n",
    "# ADD SOME COMMENTS TO YOUR CODE!\n",
    "die = [1, 2, 3, 4, 5, 6]   # 6-sided die\n",
    "prob = [1/8,1/12,1/8,1/12,1/4,1/3]  # prob\n"
   ]
  },
  {
   "cell_type": "markdown",
   "metadata": {},
   "source": [
    "2. Plot a histrogramm with 1,000,000 simulations to check if the relative counts of each number is approximately equal to the corresponding specified probabilities.\n",
    "\n",
    "_Remark:_ Specify the bins of your histogram correctly."
   ]
  },
  {
   "cell_type": "code",
   "execution_count": 17,
   "metadata": {},
   "outputs": [
    {
     "data": {
      "text/plain": [
       "[0.124226, 0.083587, 0.125025, 0.083106, 0.249841, 0.334215]"
      ]
     },
     "execution_count": 17,
     "metadata": {},
     "output_type": "execute_result"
    },
    {
     "data": {
      "image/png": "[encoded data removed]",
      "text/plain": [
       "<Figure size 432x288 with 1 Axes>"
      ]
     },
     "metadata": {
      "needs_background": "light"
     },
     "output_type": "display_data"
    }
   ],
   "source": [
    "# WRITE YOUR OWN CODE HERE! FEEL FREE TO INSERT MORE CELLS!\n",
    "# ADD SOME COMMENTS TO YOUR CODE!\n",
    "\n",
    "rolls = list(np.random.choice(die, 1000000, p= prob)) # random variable\n",
    "plt.hist(rolls, bins = 6)  # plot\n",
    "\n",
    "counts = [rolls.count(i) for i in die] #count each side\n",
    "\n",
    "prob2 = [counts[i]/1000000.0 for i in range(6)] #compute each side prob\n",
    "prob2"
   ]
  }
 ],
 "metadata": {
  "kernelspec": {
   "display_name": "Python 3",
   "language": "python",
   "name": "python3"
  },
  "language_info": {
   "codemirror_mode": {
    "name": "ipython",
    "version": 3
   },
   "file_extension": ".py",
   "mimetype": "text/x-python",
   "name": "python",
   "nbconvert_exporter": "python",
   "pygments_lexer": "ipython3",
   "version": "3.8.8"
  }
 },
 "nbformat": 4,
 "nbformat_minor": 4
}
