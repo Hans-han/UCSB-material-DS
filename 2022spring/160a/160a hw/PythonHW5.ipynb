{
 "cells": [
  {
   "cell_type": "markdown",
   "metadata": {},
   "source": [
    "# Python Homework 5: Financial Credit Rating"
   ]
  },
  {
   "cell_type": "markdown",
   "metadata": {},
   "source": [
    "<font color=\"blue\"><b>Instruction:</b> Please upload your jupyter notebook on GauchoSpace with filename \"PythonHW5_<i>YOURPERMNUMBER</i>.ipynb\".</font>\n"
   ]
  },
  {
   "cell_type": "markdown",
   "metadata": {},
   "source": [
    "In Mathematical Finance, Markov chains are typically used to model the default risk of a company or country (more specifically, the default of a company's or country's liability like a corporate or government bond - see PSTAT 171 and PSTAT 170). \n",
    "\n",
    "Rating agencies (like <i>Standard & Poor’s</i>, <i>Moody’s</i>, <i>Fitch</i>) rate the financial stability of a company and classify them according to different classes. A possible classification may range from 'AAA' for debitors with a very good credit rating to 'CCC' for debitors which are very likely to delay in paying a debt; and 'D' for those debitors which can't satisfy their financial liabilities anymore (in other words, they are default). \n",
    "\n",
    "The yearly credit rating of a company can be modeled as a Markov chain $(X_n)_{n=0,1,2,\\ldots}$ with state space\n",
    "\n",
    "\n",
    "$$ \\mathcal{S} = \\{ AAA,\\, AA,\\, A,\\, BBB,\\, BB,\\, B,\\, CCC,\\, D \\} $$\n",
    "\n",
    "where $X_n$ represents the credit rating class of a company at the $n$-th year. The transition probabilities are given by\n",
    "\n",
    "\\begin{equation*}\n",
    "\\begin{array}{ccccccccc}\n",
    " & AAA & AA & A & BBB & BB & B & CCC & D \\\\\n",
    " AAA & 92,07 & 7,09 & 0,63 & 0,15 & 0,06 & 0,00 & 0,00 & 0,00 \\\\ \n",
    " AA & 0,62 & 90,84 & 7,76 & 0,59 & 0,06 & 0,10 & 0,02 & 0,01 \\\\\n",
    " A & 0,05 & 2,09 & 91,38 & 5,79 & 0,44 & 0,16 & 0,04 & 0,05 \\\\\n",
    " BBB & 0,03 & 0,21 & 4,10 & 89,37 & 4,82 & 0,86 & 0,24 & 0,37 \\\\\n",
    " BB & 0,03 & 0,08 & 0,40 & 5,54 & 83,24 & 8,15 & 1,11 & 1,45 \\\\\n",
    " B & 0,00 & 0,08 & 0,27 & 0,34 & 5,39 & 82,41 & 4,92 & 6,59 \\\\\n",
    " CCC & 0,10 & 0,00 & 0,29 & 0,58 & 1,55 & 10,54 & 52,80 & 34,14 \\\\\n",
    " D & 0,00 & 0,00 & 0,00 & 0,00 & 0,00 & 0,00 & 0,00 & 100,0\n",
    "\\end{array} \n",
    "\\end{equation*}\n",
    "\n",
    "<i>Remark</i>: For your implementations below, you can label the different states from $0$ to $7$, where $0$ represents state $AAA$, $1$ represents state $AA$, and so on."
   ]
  },
  {
   "cell_type": "markdown",
   "metadata": {},
   "source": [
    "As usual, we start with loading some packages:"
   ]
  },
  {
   "cell_type": "code",
   "execution_count": 3,
   "metadata": {},
   "outputs": [],
   "source": [
    "import numpy as np\n",
    "import math\n",
    "import matplotlib.pyplot as plt\n",
    "import pandas as pd\n",
    "import csv\n",
    "\n",
    "# Allows to render plots directly within the notebook\n",
    "%matplotlib inline"
   ]
  },
  {
   "cell_type": "markdown",
   "metadata": {},
   "source": [
    "## Problem 1 (3 points)\n",
    "\n",
    "We start with loading the matrix from the accompanying external .csv-file."
   ]
  },
  {
   "cell_type": "code",
   "execution_count": 4,
   "metadata": {},
   "outputs": [],
   "source": [
    "csvFile = 'CreditRatingTransMatrixP.csv'   #specify the path to your csv file\n",
    "\n",
    "P = []\n",
    "with open( csvFile, 'r' ) as file:\n",
    "    reader = csv.reader( file )\n",
    "    for row in reader:\n",
    "        P.append( [ float( prob ) for prob in row ] )"
   ]
  },
  {
   "cell_type": "markdown",
   "metadata": {},
   "source": [
    "P is a list representing the transition probability matrix. In particular, $P[i][j]$ gives you the probabilities from state $i$ to $j$, for $i,j\\in\\{0,1,2,\\dots, 7\\}$. There are many other ways to read and store the transition matrix, e.g., you could also try 'pandas'."
   ]
  },
  {
   "cell_type": "code",
   "execution_count": 5,
   "metadata": {},
   "outputs": [
    {
     "data": {
      "text/plain": [
       "[[0.9207, 0.0709, 0.0063, 0.0015, 0.0006, 0.0, 0.0, 0.0],\n",
       " [0.0062, 0.9084, 0.0776, 0.0059, 0.0006, 0.001, 0.0002, 0.0001],\n",
       " [0.0005, 0.0209, 0.9138, 0.0579, 0.0044, 0.0016, 0.0004, 0.0005],\n",
       " [0.0003, 0.0021, 0.041, 0.8937, 0.0482, 0.0086, 0.0024, 0.0037],\n",
       " [0.0003, 0.0008, 0.004, 0.0554, 0.8324, 0.0815, 0.0111, 0.0145],\n",
       " [0.0, 0.0008, 0.0027, 0.0034, 0.0539, 0.8241, 0.0492, 0.0659],\n",
       " [0.001, 0.0, 0.0029, 0.0058, 0.0155, 0.1054, 0.528, 0.3414],\n",
       " [0.0, 0.0, 0.0, 0.0, 0.0, 0.0, 0.0, 1.0]]"
      ]
     },
     "execution_count": 5,
     "metadata": {},
     "output_type": "execute_result"
    }
   ],
   "source": [
    "### Check if you uploaded matrix P correctly\n",
    "P"
   ]
  },
  {
   "cell_type": "code",
   "execution_count": 7,
   "metadata": {},
   "outputs": [
    {
     "data": {
      "text/plain": [
       "[0.9207, 0.0709, 0.0063, 0.0015, 0.0006, 0.0, 0.0, 0.0]"
      ]
     },
     "execution_count": 7,
     "metadata": {},
     "output_type": "execute_result"
    }
   ],
   "source": [
    "### E.g. probabilities from state 0 to 0, 1, ..., 7\n",
    "P[0]# first [] point to row index, second[] point to column index"
   ]
  },
  {
   "cell_type": "markdown",
   "metadata": {},
   "source": [
    "<b>Question:</b> Use suitable Matrix operations to <u>compute the probability</u> that a company which is rated with 'AAA' today will <u>not</u> default during the next 8 years. Give a short explanation to your answer!"
   ]
  },
  {
   "cell_type": "code",
   "execution_count": 10,
   "metadata": {},
   "outputs": [
    {
     "data": {
      "text/plain": [
       "array([[0.5239, 0.3113, 0.1215, 0.0308, 0.007 , 0.0032, 0.0006, 0.0018],\n",
       "       [0.0278, 0.4979, 0.3405, 0.0964, 0.0186, 0.0099, 0.0018, 0.0071],\n",
       "       [0.0048, 0.0932, 0.5523, 0.2469, 0.0554, 0.0239, 0.0043, 0.0192],\n",
       "       [0.0023, 0.0234, 0.1771, 0.4807, 0.1599, 0.0746, 0.0125, 0.0696],\n",
       "       [0.0016, 0.0082, 0.0495, 0.1819, 0.307 , 0.2063, 0.0314, 0.214 ],\n",
       "       [0.0007, 0.0047, 0.0193, 0.0492, 0.135 , 0.2822, 0.0433, 0.4656],\n",
       "       [0.0015, 0.0023, 0.0103, 0.0219, 0.0449, 0.0931, 0.0192, 0.8068],\n",
       "       [0.    , 0.    , 0.    , 0.    , 0.    , 0.    , 0.    , 1.    ]])"
      ]
     },
     "execution_count": 10,
     "metadata": {},
     "output_type": "execute_result"
    }
   ],
   "source": [
    "### Provide your computations here\n",
    "\n",
    "np.set_printoptions(precision=4, suppress=True)\n",
    "np.linalg.matrix_power(P, 8)"
   ]
  },
  {
   "cell_type": "markdown",
   "metadata": {},
   "source": [
    "Provide your short explanation here:\n",
    "\n",
    "<b>Answer:</b>  By computing the probability transfer matrix, we get the probability that a company which is rated with 'AAA' today will not default during the next 8 years is $P$=1-$P_{07}^{8}$=1-0.0018=0.9982"
   ]
  },
  {
   "cell_type": "markdown",
   "metadata": {},
   "source": [
    "## Problem 2 (4 points)\n",
    "\n",
    "Write a Python code to simulate the Markov chain for different starting values:\n",
    "\n",
    "<i>Hint:</i> You can use the numpy built-in function <tt>random.choice()</tt>!"
   ]
  },
  {
   "cell_type": "code",
   "execution_count": 20,
   "metadata": {},
   "outputs": [],
   "source": [
    "def simulateRating(startRating, numberOfSteps, P):\n",
    "    \n",
    "    # Insert your code here\n",
    "    samplePath = [startRating]\n",
    "    curP = P[startRating]\n",
    "\n",
    "    for i in range(numberOfSteps):\n",
    "        nextV = np.random.choice(8, p=curP)\n",
    "        samplePath.append(nextV)\n",
    "        curP = P[nextV]\n",
    "        \n",
    "    return samplePath"
   ]
  },
  {
   "cell_type": "code",
   "execution_count": 21,
   "metadata": {},
   "outputs": [
    {
     "data": {
      "text/plain": [
       "[0, 0, 0, 0, 0, 0, 0, 0, 0, 0, 0]"
      ]
     },
     "execution_count": 21,
     "metadata": {},
     "output_type": "execute_result"
    }
   ],
   "source": [
    "### Test your code here:\n",
    "simulateRating(startRating=0, numberOfSteps=10, P=P)"
   ]
  },
  {
   "cell_type": "markdown",
   "metadata": {},
   "source": [
    "## Problem 3 (3 points)\n",
    "\n",
    "Write a code to plot <tt>numPaths</tt> simulated paths of length <tt>lengthPath</tt> with starting value <tt>startRating</tt>."
   ]
  },
  {
   "cell_type": "code",
   "execution_count": 22,
   "metadata": {},
   "outputs": [],
   "source": [
    "### Write your own code here to simulate the paths\n",
    "\n",
    "startRating = 2            \n",
    "lengthPath = 50\n",
    "numPaths = 2\n",
    "\n",
    "### Insert your code here\n",
    "def multiSimulateRating(startRating, numberOfSteps, numPaths, P):\n",
    "    samplePaths = []\n",
    "    for _ in range(numPaths):\n",
    "        samplePaths.append(simulateRating(startRating, numberOfSteps, P))\n",
    "    return samplePaths"
   ]
  },
  {
   "cell_type": "code",
   "execution_count": 23,
   "metadata": {},
   "outputs": [
    {
     "data": {
      "image/png": "[encoded data removed]",
      "text/plain": [
       "<Figure size 720x360 with 1 Axes>"
      ]
     },
     "metadata": {
      "needs_background": "light"
     },
     "output_type": "display_data"
    }
   ],
   "source": [
    "### Complement the plot commands accordingly and plot your results\n",
    "\n",
    "def plotPaths(startRating, lengthPath, numPaths, P):\n",
    "    plt.figure(figsize=(10, 5))\n",
    "\n",
    "    simPaths = multiSimulateRating(startRating, lengthPath, numPaths, P)\n",
    "    for path in simPaths:\n",
    "        plt.plot(np.arange(lengthPath+1), path, drawstyle='steps')\n",
    "\n",
    "    plt.title('Simulated rating paths')\n",
    "\n",
    "    plt.ylabel('Credit Ratings')\n",
    "    plt.xlabel('Year')\n",
    "\n",
    "    plt.ylim(-1, 8)\n",
    "    ratings = ['', 'AAA', 'AA', 'A', 'BBB', 'BB', 'B', 'CCC/C', 'D', '']\n",
    "    plt.yticks(range(-1, 9), ratings)\n",
    "    plt.show()\n",
    "\n",
    "plotPaths(startRating, lengthPath, numPaths, P)"
   ]
  },
  {
   "cell_type": "markdown",
   "metadata": {},
   "source": [
    "## Problem 4 (for fun)\n",
    "\n",
    "Can you say something about the long run behavior of the Markov chain? Does it depend on today's starting rate at time $0$?\n",
    "\n",
    "Justify your answer with a plot and/or computations!"
   ]
  },
  {
   "cell_type": "markdown",
   "metadata": {
    "collapsed": true
   },
   "source": [
    "<b>Answer</b>: most companies are likly to bankrupt in the long run, which is inline with Law of Entropy. It dies not depend on inital state"
   ]
  },
  {
   "cell_type": "code",
   "execution_count": 24,
   "metadata": {},
   "outputs": [
    {
     "data": {
      "image/png": "[encoded data removed]",
      "text/plain": [
       "<Figure size 720x360 with 1 Axes>"
      ]
     },
     "metadata": {
      "needs_background": "light"
     },
     "output_type": "display_data"
    },
    {
     "data": {
      "image/png": "[encoded data removed]",
      "text/plain": [
       "<Figure size 720x360 with 1 Axes>"
      ]
     },
     "metadata": {
      "needs_background": "light"
     },
     "output_type": "display_data"
    },
    {
     "data": {
      "image/png": "[encoded data removed]",
      "text/plain": [
       "<Figure size 720x360 with 1 Axes>"
      ]
     },
     "metadata": {
      "needs_background": "light"
     },
     "output_type": "display_data"
    }
   ],
   "source": [
    "### Provide your computations here\n",
    "plotPaths(0, 300, 5, P)\n",
    "plotPaths(1, 300, 5, P)\n",
    "plotPaths(2, 300, 5, P)\n"
   ]
  },
  {
   "cell_type": "code",
   "execution_count": null,
   "metadata": {},
   "outputs": [],
   "source": []
  }
 ],
 "metadata": {
  "anaconda-cloud": {},
  "kernelspec": {
   "display_name": "Python 3 (ipykernel)",
   "language": "python",
   "name": "python3"
  },
  "language_info": {
   "codemirror_mode": {
    "name": "ipython",
    "version": 3
   },
   "file_extension": ".py",
   "mimetype": "text/x-python",
   "name": "python",
   "nbconvert_exporter": "python",
   "pygments_lexer": "ipython3",
   "version": "3.9.12"
  }
 },
 "nbformat": 4,
 "nbformat_minor": 2
}
