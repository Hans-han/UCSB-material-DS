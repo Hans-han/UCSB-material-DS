{
 "cells": [
  {
   "cell_type": "markdown",
   "metadata": {},
   "source": [
    "# Python Homework 2"
   ]
  },
  {
   "cell_type": "markdown",
   "metadata": {},
   "source": [
    "##### A stochastic model for a car insurance company's total cost of damages from traffic accidents goes back to the work by Van der Lann and Louter, \"A statistical model for the costs of passenger car traffic accidents\", Journal of the Royal Statistical Society (1986).\n",
    "\n",
    "For every $k=1,2,3\\ldots$ we denote by the random variable $X_k$ the US dollar amount of a damage from a policy holder's traffic accident which will occur during the year 2022.\n",
    "\n",
    "We assume that $X_1$, $X_2$,... is an i.i.d. (independent and identically distributed) sequence of exponentially distributed random variables with an average claim size of 1,500 USD. The (random) total number of accidents $N$ in 2022 is assumed to be Poisson distributed with $\\lambda$ claims on average.\n",
    "\n",
    "It is assumed that the number of accidents is independent of the US dollar amount of damages for each accident. That is, the random variable $N$ is independent of the random variables $X_1$, $X_2$,...\n",
    "\n",
    "The total costs for the insurance company by the end of 2022 will thus be given by the <b>random sum</b> \n",
    "\n",
    "$$S_N := X_1 + X_2 + \\dots + X_N = \\sum_{k = 1}^{N} X_k.$$\n",
    "\n",
    "Note that the total number $N$ of accidents is random!"
   ]
  },
  {
   "cell_type": "markdown",
   "metadata": {},
   "source": [
    "The goal of the current exercise is to approximate via simulation:\n",
    "\n",
    "* the conditional expected total costs $$\\mathbb{E}[S_N|N=k]$$ for the insurance company in 2022 given that the number of claims is equal to $k$, and\n",
    "\n",
    "* the expected total costs $$\\mathbb{E}[S_N]$$ for the insurance company in 2022, and\n",
    "\n",
    "* the probabilities that the total cost will not exceed $K$ USD, i.e., \n",
    "\n",
    "$$\\mathbb{P}[S_N \\leq K] \\quad \\text{for} \\, K = \\$30,000,\\text{  and  } K=\\$45,000$$\n"
   ]
  },
  {
   "cell_type": "markdown",
   "metadata": {},
   "source": [
    "As usual, we start with loading some packages:"
   ]
  },
  {
   "cell_type": "code",
   "execution_count": 3,
   "metadata": {},
   "outputs": [],
   "source": [
    "import numpy as np\n",
    "import math"
   ]
  },
  {
   "cell_type": "markdown",
   "metadata": {},
   "source": [
    "<b>Step 1:</b><br>\n",
    "First, write a function <tt>randomSum()</tt> which simulates from the distribution of $S_N$ given that $N=k$. The output should just be a single scalar!\n",
    "\n",
    "<i>Hint:</i> Use proper build-in functions from the <i>NumPy</i>-package in your code in order to sample from an Exponential distribution (check out the GettingStarted python file): "
   ]
  },
  {
   "cell_type": "code",
   "execution_count": 4,
   "metadata": {},
   "outputs": [],
   "source": [
    "def randomSum(averageClaimSize, k):\n",
    "    \n",
    "    ## Write your own code here\n",
    "    \n",
    "    #N=np.random.poisson(k,1)#(lam,size)\n",
    "    sampleSum=sum(np.random.exponential(averageClaimSize,k) )\n",
    "        \n",
    "    return sampleSum  "
   ]
  },
  {
   "cell_type": "code",
   "execution_count": 5,
   "metadata": {},
   "outputs": [
    {
     "data": {
      "text/plain": [
       "22318.61523620902"
      ]
     },
     "execution_count": 5,
     "metadata": {},
     "output_type": "execute_result"
    }
   ],
   "source": [
    "## Test your function\n",
    "randomSum(1000,20)"
   ]
  },
  {
   "cell_type": "markdown",
   "metadata": {},
   "source": [
    "<b>Step 2:</b><br>Write a function <tt>simulatorConditional()</tt> which uses the function <tt>randomSum()</tt> to simulate $M \\in \\mathbb{N}$ samples from the distribution of $S_N$ given that $N=k$. The output should be an array of length $M$."
   ]
  },
  {
   "cell_type": "code",
   "execution_count": 6,
   "metadata": {},
   "outputs": [],
   "source": [
    "def simulatorConditional(averageClaimSize, k, M):\n",
    "\n",
    "    ## Write your own code here\n",
    "    \n",
    "    samples=[]\n",
    "    for i in range (M):\n",
    "        samples.append(randomSum(averageClaimSize,k))\n",
    "    return samples"
   ]
  },
  {
   "cell_type": "code",
   "execution_count": 7,
   "metadata": {},
   "outputs": [
    {
     "data": {
      "text/plain": [
       "[28753.373705878734,\n",
       " 36050.16822464053,\n",
       " 28634.420471970752,\n",
       " 32326.983252791026,\n",
       " 39578.21410022489,\n",
       " 28922.553114686616,\n",
       " 26122.39873269044,\n",
       " 18603.72560131833,\n",
       " 29219.399390122166,\n",
       " 25076.133323392896]"
      ]
     },
     "execution_count": 7,
     "metadata": {},
     "output_type": "execute_result"
    }
   ],
   "source": [
    "## Test your function\n",
    "simulatorConditional(1500,20,10)"
   ]
  },
  {
   "cell_type": "markdown",
   "metadata": {},
   "source": [
    "<b>Step 3:</b><br>Use your <tt>simulatorConditional()</tt> function to approximate the conditional expectation $$\\mathbb{E}[S_N|N=k]$$ for $k=10$ and $k=20$.\n",
    "\n",
    "For this, you generate with your function <tt>simulatorConditional()</tt> a bunch of $M=1,000$ independent realizations (samples) $s^{(1)}_k, s^{(2)}_k, \\ldots, s^{(M)}_k$ with the distribution of $S_N$ given $N=k$. Then you can approximate:\n",
    "$$ \\$k \\cdot 1,500 = \\mathbb{E}[S_N|N=k] \\approx \\frac{1}{M} \\sum_{m=1}^M s^{(m)}_k,$$\n",
    "and check the accuracy of this approximation."
   ]
  },
  {
   "cell_type": "code",
   "execution_count": 8,
   "metadata": {},
   "outputs": [],
   "source": [
    "## Here comes your code \n",
    "def conditionalexpectation(averageClaimSize, k, M):\n",
    "   \n",
    "   return np.mean(simulatorConditional(averageClaimSize, k, M))\n",
    "\n",
    "\n"
   ]
  },
  {
   "cell_type": "markdown",
   "metadata": {},
   "source": [
    "<b>Step 4:</b><br>Write another simulator function which again uses the function <tt>randomSum()</tt> to simulate $M \\in \\mathbb{N}$ samples now from the unconditional distribution of $S_N$. You will need to write a function <tt>simulator()</tt> that passes Poisson distributed random numbers into the second argument of <tt>randomSum()</tt> now. The output of the function <tt>simulator()</tt> should be an array of length $M$."
   ]
  },
  {
   "cell_type": "code",
   "execution_count": 9,
   "metadata": {},
   "outputs": [],
   "source": [
    "def simulator(averageClaimSize, Poissonparameter, M):\n",
    "\n",
    "    ## Write your own code here\n",
    "    X=np.random.poisson(Poissonparameter,1)\n",
    "    samples=[]\n",
    "    for i in range (M):\n",
    "        samples.append(randomSum(averageClaimSize,X))\n",
    "    \n",
    "    return samples"
   ]
  },
  {
   "cell_type": "markdown",
   "metadata": {},
   "source": [
    "<b>Step 5:</b><br>We now assume that the average number of claims per year is $20$ and therefore choose $\\lambda=20$. As you are seeing in the homework, it holds via the so-called <b>Wald's Identity</b> that the expectation of the random sum $S_N$ is actually given by the formula\n",
    "\n",
    "\\begin{equation}\n",
    "\\mathbb{E}[S_N] = \\mathbb{E}[N] \\cdot \\mathbb{E}[X_1] = 20 \\cdot \\$1,500 = \\$30,000.\n",
    "\\end{equation}\n",
    "\n",
    "Check via the empirical mean that\n",
    "\n",
    "$$ \\$30,000 = \\mathbb{E}[S_N] \\approx \\frac{1}{M} \\sum_{m=1}^M s^{(m)}_N$$\n",
    "\n",
    "where $s^{(1)}_N, s^{(2)}_N, \\ldots, s^{(M)}_N$ denote $M$ independent realizations (samples) from the random variable $S_N$. Use $M = 5000$ simulations.  "
   ]
  },
  {
   "cell_type": "code",
   "execution_count": 10,
   "metadata": {},
   "outputs": [
    {
     "data": {
      "text/plain": [
       "40486.11700767938"
      ]
     },
     "execution_count": 10,
     "metadata": {},
     "output_type": "execute_result"
    }
   ],
   "source": [
    "## Here comes your code \n",
    "\n",
    "np.mean(simulator(1500,20,5000))\n",
    "##simulator(1500,20,5000) this is a test case."
   ]
  },
  {
   "cell_type": "markdown",
   "metadata": {},
   "source": [
    "<b>Step 6: </b><br>Recall from class that the desired probabilities $\\mathbb{P}[S_N \\leq K]$ for $K = \\$30,000,\\text{ and } \\$45,000$ can be computed as expectations via an indicator function\n",
    "\n",
    "$$ \\mathbb{P}[S_N \\leq K] = \\mathbb{E}[1_{\\{S_N \\leq K\\}}]$$\n",
    "\n",
    "We use once more the empricial mean to approximate\n",
    "\n",
    "$$ \\mathbb{E}[1_{\\{S_N \\leq K\\}}] \\approx \\frac{1}{M} \\sum_{m=1}^M 1_{\\{s^{(m)}_N \\leq K \\}}$$\n",
    "\n",
    "with $M$ independent realizations (samples) from the random variable $S_N$ (again denoted by $s^{(1)}_N, s^{(2)}_N, \\ldots, s^{(M)}_N$)."
   ]
  },
  {
   "cell_type": "markdown",
   "metadata": {},
   "source": [
    "Write a function <tt>MCprobEstimation()</tt> which estimates the probabilities $\\mathbb{P}[S_N \\leq K]$ for $K = \\$30,000,\\text{  and  } K=\\$45,000$ as described based on $M$ simulations of $S_N$. The output should be a real number in [0,1]:"
   ]
  },
  {
   "cell_type": "code",
   "execution_count": 13,
   "metadata": {},
   "outputs": [],
   "source": [
    "def MCprobEstimation(averageClaimSize, averageNumberOfClaims, K, M):\n",
    "\n",
    "    ## Write your own code here\n",
    "    sample2=[]\n",
    "    #empiricalProb=0\n",
    "    for i in range(M):\n",
    "        sample2 = simulator(averageClaimSize,averageNumberOfClaims,K)#it is array of numbers\n",
    "        sample2 = np.array(sample2)\n",
    "        empiricalProb=np.mean(sample2<=K)\n",
    "        \n",
    "    return empiricalProb"
   ]
  },
  {
   "cell_type": "code",
   "execution_count": 14,
   "metadata": {},
   "outputs": [
    {
     "data": {
      "text/plain": [
       "0.9899"
      ]
     },
     "execution_count": 14,
     "metadata": {},
     "output_type": "execute_result"
    }
   ],
   "source": [
    "## Test your function\n",
    "MCprobEstimation(1000, 20, 20000, 10)"
   ]
  },
  {
   "cell_type": "markdown",
   "metadata": {},
   "source": [
    "Test your function with varying $M = 100, 1000, 10000$ simulations:"
   ]
  },
  {
   "cell_type": "code",
   "execution_count": null,
   "metadata": {},
   "outputs": [],
   "source": [
    "print(MCprobEstimation(averageClaimSize, averageNumberOfClaims, 30000, 100))\n",
    "print(MCprobEstimation(averageClaimSize, averageNumberOfClaims, 30000, 1000))\n",
    "print(MCprobEstimation(averageClaimSize, averageNumberOfClaims, 30000, 10000))"
   ]
  },
  {
   "cell_type": "code",
   "execution_count": null,
   "metadata": {},
   "outputs": [],
   "source": [
    "print(MCprobEstimation(averageClaimSize, averageNumberOfClaims, 45000, 100))\n",
    "print(MCprobEstimation(averageClaimSize, averageNumberOfClaims, 45000, 1000))\n",
    "print(MCprobEstimation(averageClaimSize, averageNumberOfClaims, 45000, 10000))"
   ]
  }
 ],
 "metadata": {
  "anaconda-cloud": {},
  "kernelspec": {
   "display_name": "Python 3 (ipykernel)",
   "language": "python",
   "name": "python3"
  },
  "language_info": {
   "codemirror_mode": {
    "name": "ipython",
    "version": 3
   },
   "file_extension": ".py",
   "mimetype": "text/x-python",
   "name": "python",
   "nbconvert_exporter": "python",
   "pygments_lexer": "ipython3",
   "version": "3.9.12"
  }
 },
 "nbformat": 4,
 "nbformat_minor": 2
}
