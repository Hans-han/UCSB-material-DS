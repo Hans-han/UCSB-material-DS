{
 "cells": [
  {
   "cell_type": "markdown",
   "metadata": {},
   "source": [
    "# Python Homework 1"
   ]
  },
  {
   "cell_type": "markdown",
   "metadata": {},
   "source": [
    "<b> Instructions:</b> This Python Homework is due on <b> Tuesday, April 12th, at 11:59 p.m.</b> You have to submit your version of this Jupyter Notebook via Gradescope!"
   ]
  },
  {
   "cell_type": "markdown",
   "metadata": {},
   "source": [
    "In this homework you are supposed to use the random number generater random.random_sample from the numpy package to generate random numbers with three different distributions. \n",
    "\n",
    "Recall from the lecture that if $F:\\mathbb{R}\\rightarrow [0,1]$ is a distribution function with generalized inverse $F^{-1}:[0,1]\\rightarrow \\mathbb{R}$ and $U$ is a uniform random variable, then $F^{-1}(U)$ is a random variable with distribution function $F$.\n",
    "\n",
    "Using the function random.random_sample from numpy package write three functions: \n",
    "* exponentialRV(seed, mean,n) that returns for given seed a bunch of n random variables from an exponential distribution with the provided mean. Derive the generalized inverse distribution function analytically for your simulation.\n",
    "* binomial(seed, p,m,n) that returns for given seed a bunch of n Binomial distributed random numbers with the provided success probability p and the number of trial equal to m. You have to numerically calculate the inverse distribution function.\n",
    "* funnyDiceRV(seed,n) that returns for given seed a bunch of n random number which describe a biased die with distribution $\\mathbb{P}(\\{1\\})=\\mathbb{P}(\\{2\\})=1/6$,$\\mathbb{P}(\\{3\\})=\\mathbb{P}(\\{4\\})=1/4$ and $\\mathbb{P}(\\{5\\})=\\mathbb{P}(\\{6\\})=1/12$."
   ]
  },
  {
   "cell_type": "code",
   "execution_count": 1,
   "metadata": {},
   "outputs": [],
   "source": [
    "import numpy as np\n",
    "import math\n",
    "import matplotlib.pyplot as plt"
   ]
  },
  {
   "cell_type": "markdown",
   "metadata": {},
   "source": [
    "Here should come your code for the three functions:"
   ]
  },
  {
   "cell_type": "code",
   "execution_count": 2,
   "metadata": {},
   "outputs": [],
   "source": [
    "def exponentialRV(seed, mean,n):\n",
    "    \n",
    "    ##Here write your own code\n",
    "    np.random.seed(seed)\n",
    "    u=np.random.random_sample(n)\n",
    "    expontialSample=-mean*np.log(1-u)\n",
    "    \n",
    "    \n",
    "    return expontialSample"
   ]
  },
  {
   "cell_type": "code",
   "execution_count": 3,
   "metadata": {},
   "outputs": [],
   "source": [
    "def binomialRV(seed, p,m,n):\n",
    "   \n",
    "    ##Here write your own code\n",
    "    binomialSamples = []\n",
    "    np.random.seed(seed)\n",
    "    for i in range(n):\n",
    "        rand=np.random.random_sample(1)\n",
    "        x=0\n",
    "        F=(1-p)**m\n",
    "        while(rand>F):\n",
    "            x=x+1\n",
    "            F=F+math.comb(m, x)*(p**x)*(1-p)**(m-x)\n",
    "        binomialSamples.append(x)\n",
    "   \n",
    "    \n",
    "    return binomialSamples"
   ]
  },
  {
   "cell_type": "code",
   "execution_count": 4,
   "metadata": {},
   "outputs": [],
   "source": [
    "def funnyDiceRV(seed, n):\n",
    "      \n",
    "    ##Here write your own code\n",
    "    funnyDiceSample = []#make a list\n",
    "    from numpy import random\n",
    "    random.seed(seed)\n",
    "    for i in range(n):\n",
    "        a1 = random.random_sample(1)\n",
    "        if(a1<1/6):\n",
    "            funnyDiceSample.append(1)\n",
    "        elif(1/6<=a1 and a1<1/3):\n",
    "            funnyDiceSample.append(2)\n",
    "        elif(1/3<=a1 and a1<7/12):\n",
    "            funnyDiceSample.append(3)\n",
    "        elif(7/12<=a1 and a1<10/12):\n",
    "            funnyDiceSample.append(4)\n",
    "        elif(10/12<=a1 and a1<11/12):\n",
    "            funnyDiceSample.append(5)\n",
    "        else:\n",
    "            funnyDiceSample.append(6)\n",
    "    return funnyDiceSample"
   ]
  },
  {
   "cell_type": "code",
   "execution_count": 42,
   "metadata": {},
   "outputs": [
    {
     "name": "stdout",
     "output_type": "stream",
     "text": [
      "[0.26236509 1.21717374 5.88456477 0.33509781 2.30128578]\n",
      "[11, 13, 16, 11, 14]\n",
      "[1, 3, 5, 1, 3]\n"
     ]
    }
   ],
   "source": [
    "print(exponentialRV(105, 3,5))# You should test all three functions \n",
    "print(binomial(105, 0.7,20,5))\n",
    "print(funnyDiceRV(105, 5))"
   ]
  },
  {
   "cell_type": "markdown",
   "metadata": {},
   "source": [
    "You should use the following routine to plot a histogram of the distribution of all three simulated random variables"
   ]
  },
  {
   "cell_type": "code",
   "execution_count": 43,
   "metadata": {
    "scrolled": true
   },
   "outputs": [
    {
     "data": {
      "image/png": "[encoded data removed]",
      "text/plain": [
       "<Figure size 432x288 with 1 Axes>"
      ]
     },
     "metadata": {
      "needs_background": "light"
     },
     "output_type": "display_data"
    },
    {
     "data": {
      "image/png": "[encoded data removed]",
      "text/plain": [
       "<Figure size 432x288 with 1 Axes>"
      ]
     },
     "metadata": {
      "needs_background": "light"
     },
     "output_type": "display_data"
    },
    {
     "data": {
      "image/png": "[encoded data removed]",
      "text/plain": [
       "<Figure size 432x288 with 1 Axes>"
      ]
     },
     "metadata": {
      "needs_background": "light"
     },
     "output_type": "display_data"
    }
   ],
   "source": [
    "numberSimulations=10000\n",
    "exponentialSamples=exponentialRV(1, 2,numberSimulations)\n",
    "binomialSamples=binomialRV(1, 0.7,20,numberSimulations)\n",
    "funnyDiceSamples=funnyDiceRV(1, numberSimulations)\n",
    "\n",
    "np.histogram(exponentialSamples)\n",
    "plt.hist(exponentialSamples, bins='auto')\n",
    "plt.title(\"Histogram Exponential\")\n",
    "plt.show()\n",
    "np.histogram(binomialSamples)\n",
    "plt.hist(binomialSamples, bins='auto')\n",
    "plt.title(\"Histogram Binomial\")\n",
    "plt.show()\n",
    "plt.hist(funnyDiceSamples, bins='auto')\n",
    "plt.title(\"Histogram Funny Dice\")\n",
    "plt.show()"
   ]
  },
  {
   "cell_type": "markdown",
   "metadata": {},
   "source": [
    "For the exponential random variable, you should then test the empirical expectation and variance of the random variables you generated. Assume you have generated random variables $X_1,X_2,X_3,\\dots,X_n$ calculate the empirical mean \n",
    "\\begin{equation}\n",
    "\\hat{\\text{ }\\mu} =\\frac{\\sum^n_{i=1} X_i}{n}\n",
    "\\end{equation}\n",
    "and the empirical variance \n",
    "\\begin{equation}\n",
    "\\hat{\\text{ }\\sigma} = \\frac{\\sum^n_{i=1}(X_i - \\hat{\\mu})^2}{n}\n",
    "\\end{equation}\n",
    "Use 10000 simulations. Is the result of your calculation in line with what you expect? Why?"
   ]
  },
  {
   "cell_type": "code",
   "execution_count": 53,
   "metadata": {},
   "outputs": [
    {
     "name": "stdout",
     "output_type": "stream",
     "text": [
      "emp_mean: 1.9770938809848277\n",
      "emp_var: 3.848581029324636\n"
     ]
    }
   ],
   "source": [
    "#Here you add the few lines of code for your calculations\n",
    "simulation=10000\n",
    "emp_mean = np.mean(exponentialRV(1, 2,numberSimulations))\n",
    "\n",
    "emp_stdev = np.std(exponentialRV(1, 2,numberSimulations))\n",
    "n=10000\n",
    "print(\"emp_mean:\",emp_mean)\n",
    "\n",
    "print(\"emp_var:\",emp_stdev*emp_stdev)"
   ]
  },
  {
   "cell_type": "markdown",
   "metadata": {},
   "source": [
    "Explanation: these 2 values are in line with the expectation based on previous values."
   ]
  }
 ],
 "metadata": {
  "anaconda-cloud": {},
  "kernelspec": {
   "display_name": "Python 3 (ipykernel)",
   "language": "python",
   "name": "python3"
  },
  "language_info": {
   "codemirror_mode": {
    "name": "ipython",
    "version": 3
   },
   "file_extension": ".py",
   "mimetype": "text/x-python",
   "name": "python",
   "nbconvert_exporter": "python",
   "pygments_lexer": "ipython3",
   "version": "3.9.12"
  }
 },
 "nbformat": 4,
 "nbformat_minor": 2
}
